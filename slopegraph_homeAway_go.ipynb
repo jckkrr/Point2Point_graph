{
 "cells": [
  {
   "cell_type": "markdown",
   "id": "1b1f0b7b-a62b-4a3d-8078-c2ebb9da72c8",
   "metadata": {},
   "source": [
    "# Slope graph for football wide table data\n",
    "\n",
    "A script that takes a 'wide' table of a football season and returns a slope graph."
   ]
  },
  {
   "cell_type": "code",
   "execution_count": 44,
   "id": "1e155e9a-118e-4a04-bdd9-767fa7fe5617",
   "metadata": {},
   "outputs": [],
   "source": [
    "import pandas as pd\n",
    "from plotly.subplots import make_subplots\n",
    "import plotly.graph_objects as go"
   ]
  },
  {
   "cell_type": "markdown",
   "id": "cc1dfdec-b719-416c-9271-119658fd903d",
   "metadata": {},
   "source": [
    "### Part A: Create dataframe\n",
    "Use table location to reference a CSV of table data taken from Soccerway.com (eg: https://int.soccerway.com/national/germany/bundesliga/20202021/regular-season/r58871/tables/ - Wide Table). This data can be scraped from Soccerway using the soccerwayWideTable_scraper. The next lines then makes a number of rows-wise calcluations (eg: hom points; home goals per game)."
   ]
  },
  {
   "cell_type": "code",
   "execution_count": 45,
   "id": "7efe8259-2acb-4524-aa63-e3c0de7000e7",
   "metadata": {},
   "outputs": [],
   "source": [
    "country = 'germany'\n",
    "league = 'bundesliga'\n",
    "season = '20202021'\n",
    "\n",
    "table_location = f'CSVs/{country}/{league}/{season}/widetable.csv'"
   ]
  },
  {
   "cell_type": "code",
   "execution_count": 48,
   "id": "df4bd53c-60f0-4b49-8517-f298ce2224a1",
   "metadata": {},
   "outputs": [
    {
     "data": {
      "text/html": [
       "<div>\n",
       "<style scoped>\n",
       "    .dataframe tbody tr th:only-of-type {\n",
       "        vertical-align: middle;\n",
       "    }\n",
       "\n",
       "    .dataframe tbody tr th {\n",
       "        vertical-align: top;\n",
       "    }\n",
       "\n",
       "    .dataframe thead th {\n",
       "        text-align: right;\n",
       "    }\n",
       "</style>\n",
       "<table border=\"1\" class=\"dataframe\">\n",
       "  <thead>\n",
       "    <tr style=\"text-align: right;\">\n",
       "      <th></th>\n",
       "      <th>Team</th>\n",
       "      <th>total_mp</th>\n",
       "      <th>total_won</th>\n",
       "      <th>total_drawn</th>\n",
       "      <th>total_lost</th>\n",
       "      <th>total_gf</th>\n",
       "      <th>total_ga</th>\n",
       "      <th>home_mp</th>\n",
       "      <th>home_won</th>\n",
       "      <th>home_drawn</th>\n",
       "      <th>...</th>\n",
       "      <th>home_points</th>\n",
       "      <th>home_ppg</th>\n",
       "      <th>home_gfpg</th>\n",
       "      <th>home_gapg</th>\n",
       "      <th>home_dpg</th>\n",
       "      <th>away_points</th>\n",
       "      <th>away_ppg</th>\n",
       "      <th>away_gfpg</th>\n",
       "      <th>away_gapg</th>\n",
       "      <th>away_dpg</th>\n",
       "    </tr>\n",
       "  </thead>\n",
       "  <tbody>\n",
       "    <tr>\n",
       "      <th>0</th>\n",
       "      <td>Bayern Munich</td>\n",
       "      <td>34</td>\n",
       "      <td>24</td>\n",
       "      <td>6</td>\n",
       "      <td>4</td>\n",
       "      <td>99</td>\n",
       "      <td>44</td>\n",
       "      <td>17</td>\n",
       "      <td>13</td>\n",
       "      <td>4</td>\n",
       "      <td>...</td>\n",
       "      <td>43</td>\n",
       "      <td>2.529412</td>\n",
       "      <td>3.764706</td>\n",
       "      <td>1.235294</td>\n",
       "      <td>2.529412</td>\n",
       "      <td>35</td>\n",
       "      <td>2.058824</td>\n",
       "      <td>2.058824</td>\n",
       "      <td>1.352941</td>\n",
       "      <td>0.705882</td>\n",
       "    </tr>\n",
       "    <tr>\n",
       "      <th>1</th>\n",
       "      <td>RB Leipzig</td>\n",
       "      <td>34</td>\n",
       "      <td>19</td>\n",
       "      <td>8</td>\n",
       "      <td>7</td>\n",
       "      <td>60</td>\n",
       "      <td>32</td>\n",
       "      <td>17</td>\n",
       "      <td>11</td>\n",
       "      <td>4</td>\n",
       "      <td>...</td>\n",
       "      <td>37</td>\n",
       "      <td>2.176471</td>\n",
       "      <td>1.705882</td>\n",
       "      <td>0.764706</td>\n",
       "      <td>0.941176</td>\n",
       "      <td>28</td>\n",
       "      <td>1.647059</td>\n",
       "      <td>1.823529</td>\n",
       "      <td>1.117647</td>\n",
       "      <td>0.705882</td>\n",
       "    </tr>\n",
       "    <tr>\n",
       "      <th>2</th>\n",
       "      <td>Borussia Do…</td>\n",
       "      <td>34</td>\n",
       "      <td>20</td>\n",
       "      <td>4</td>\n",
       "      <td>10</td>\n",
       "      <td>75</td>\n",
       "      <td>46</td>\n",
       "      <td>17</td>\n",
       "      <td>11</td>\n",
       "      <td>2</td>\n",
       "      <td>...</td>\n",
       "      <td>35</td>\n",
       "      <td>2.058824</td>\n",
       "      <td>2.352941</td>\n",
       "      <td>1.176471</td>\n",
       "      <td>1.176471</td>\n",
       "      <td>29</td>\n",
       "      <td>1.705882</td>\n",
       "      <td>2.058824</td>\n",
       "      <td>1.529412</td>\n",
       "      <td>0.529412</td>\n",
       "    </tr>\n",
       "    <tr>\n",
       "      <th>3</th>\n",
       "      <td>Wolfsburg</td>\n",
       "      <td>34</td>\n",
       "      <td>17</td>\n",
       "      <td>10</td>\n",
       "      <td>7</td>\n",
       "      <td>61</td>\n",
       "      <td>37</td>\n",
       "      <td>17</td>\n",
       "      <td>10</td>\n",
       "      <td>4</td>\n",
       "      <td>...</td>\n",
       "      <td>34</td>\n",
       "      <td>2.000000</td>\n",
       "      <td>1.882353</td>\n",
       "      <td>0.941176</td>\n",
       "      <td>0.941176</td>\n",
       "      <td>27</td>\n",
       "      <td>1.588235</td>\n",
       "      <td>1.705882</td>\n",
       "      <td>1.235294</td>\n",
       "      <td>0.470588</td>\n",
       "    </tr>\n",
       "    <tr>\n",
       "      <th>4</th>\n",
       "      <td>Eintracht F…</td>\n",
       "      <td>34</td>\n",
       "      <td>16</td>\n",
       "      <td>12</td>\n",
       "      <td>6</td>\n",
       "      <td>69</td>\n",
       "      <td>53</td>\n",
       "      <td>17</td>\n",
       "      <td>10</td>\n",
       "      <td>7</td>\n",
       "      <td>...</td>\n",
       "      <td>37</td>\n",
       "      <td>2.176471</td>\n",
       "      <td>2.176471</td>\n",
       "      <td>1.176471</td>\n",
       "      <td>1.000000</td>\n",
       "      <td>23</td>\n",
       "      <td>1.352941</td>\n",
       "      <td>1.882353</td>\n",
       "      <td>1.941176</td>\n",
       "      <td>-0.058824</td>\n",
       "    </tr>\n",
       "    <tr>\n",
       "      <th>5</th>\n",
       "      <td>Bayer Lever…</td>\n",
       "      <td>34</td>\n",
       "      <td>14</td>\n",
       "      <td>10</td>\n",
       "      <td>10</td>\n",
       "      <td>53</td>\n",
       "      <td>39</td>\n",
       "      <td>17</td>\n",
       "      <td>8</td>\n",
       "      <td>5</td>\n",
       "      <td>...</td>\n",
       "      <td>29</td>\n",
       "      <td>1.705882</td>\n",
       "      <td>2.000000</td>\n",
       "      <td>1.294118</td>\n",
       "      <td>0.705882</td>\n",
       "      <td>23</td>\n",
       "      <td>1.352941</td>\n",
       "      <td>1.117647</td>\n",
       "      <td>1.000000</td>\n",
       "      <td>0.117647</td>\n",
       "    </tr>\n",
       "    <tr>\n",
       "      <th>6</th>\n",
       "      <td>Union Berlin</td>\n",
       "      <td>34</td>\n",
       "      <td>12</td>\n",
       "      <td>14</td>\n",
       "      <td>8</td>\n",
       "      <td>50</td>\n",
       "      <td>43</td>\n",
       "      <td>17</td>\n",
       "      <td>8</td>\n",
       "      <td>8</td>\n",
       "      <td>...</td>\n",
       "      <td>32</td>\n",
       "      <td>1.882353</td>\n",
       "      <td>1.882353</td>\n",
       "      <td>1.058824</td>\n",
       "      <td>0.823529</td>\n",
       "      <td>18</td>\n",
       "      <td>1.058824</td>\n",
       "      <td>1.058824</td>\n",
       "      <td>1.470588</td>\n",
       "      <td>-0.411765</td>\n",
       "    </tr>\n",
       "    <tr>\n",
       "      <th>7</th>\n",
       "      <td>Borussia M'…</td>\n",
       "      <td>34</td>\n",
       "      <td>13</td>\n",
       "      <td>10</td>\n",
       "      <td>11</td>\n",
       "      <td>64</td>\n",
       "      <td>56</td>\n",
       "      <td>17</td>\n",
       "      <td>8</td>\n",
       "      <td>4</td>\n",
       "      <td>...</td>\n",
       "      <td>28</td>\n",
       "      <td>1.647059</td>\n",
       "      <td>1.882353</td>\n",
       "      <td>1.117647</td>\n",
       "      <td>0.764706</td>\n",
       "      <td>21</td>\n",
       "      <td>1.235294</td>\n",
       "      <td>1.882353</td>\n",
       "      <td>2.176471</td>\n",
       "      <td>-0.294118</td>\n",
       "    </tr>\n",
       "    <tr>\n",
       "      <th>8</th>\n",
       "      <td>Stuttgart</td>\n",
       "      <td>34</td>\n",
       "      <td>12</td>\n",
       "      <td>9</td>\n",
       "      <td>13</td>\n",
       "      <td>56</td>\n",
       "      <td>55</td>\n",
       "      <td>17</td>\n",
       "      <td>5</td>\n",
       "      <td>6</td>\n",
       "      <td>...</td>\n",
       "      <td>21</td>\n",
       "      <td>1.235294</td>\n",
       "      <td>1.588235</td>\n",
       "      <td>1.529412</td>\n",
       "      <td>0.058824</td>\n",
       "      <td>24</td>\n",
       "      <td>1.411765</td>\n",
       "      <td>1.705882</td>\n",
       "      <td>1.705882</td>\n",
       "      <td>0.000000</td>\n",
       "    </tr>\n",
       "    <tr>\n",
       "      <th>9</th>\n",
       "      <td>Freiburg</td>\n",
       "      <td>34</td>\n",
       "      <td>12</td>\n",
       "      <td>9</td>\n",
       "      <td>13</td>\n",
       "      <td>52</td>\n",
       "      <td>52</td>\n",
       "      <td>17</td>\n",
       "      <td>7</td>\n",
       "      <td>6</td>\n",
       "      <td>...</td>\n",
       "      <td>27</td>\n",
       "      <td>1.588235</td>\n",
       "      <td>1.941176</td>\n",
       "      <td>1.352941</td>\n",
       "      <td>0.588235</td>\n",
       "      <td>18</td>\n",
       "      <td>1.058824</td>\n",
       "      <td>1.117647</td>\n",
       "      <td>1.705882</td>\n",
       "      <td>-0.588235</td>\n",
       "    </tr>\n",
       "    <tr>\n",
       "      <th>10</th>\n",
       "      <td>Hoffenheim</td>\n",
       "      <td>34</td>\n",
       "      <td>11</td>\n",
       "      <td>10</td>\n",
       "      <td>13</td>\n",
       "      <td>52</td>\n",
       "      <td>54</td>\n",
       "      <td>17</td>\n",
       "      <td>8</td>\n",
       "      <td>3</td>\n",
       "      <td>...</td>\n",
       "      <td>27</td>\n",
       "      <td>1.588235</td>\n",
       "      <td>1.882353</td>\n",
       "      <td>1.411765</td>\n",
       "      <td>0.470588</td>\n",
       "      <td>16</td>\n",
       "      <td>0.941176</td>\n",
       "      <td>1.176471</td>\n",
       "      <td>1.764706</td>\n",
       "      <td>-0.588235</td>\n",
       "    </tr>\n",
       "    <tr>\n",
       "      <th>11</th>\n",
       "      <td>Mainz</td>\n",
       "      <td>34</td>\n",
       "      <td>10</td>\n",
       "      <td>9</td>\n",
       "      <td>15</td>\n",
       "      <td>39</td>\n",
       "      <td>56</td>\n",
       "      <td>17</td>\n",
       "      <td>4</td>\n",
       "      <td>4</td>\n",
       "      <td>...</td>\n",
       "      <td>16</td>\n",
       "      <td>0.941176</td>\n",
       "      <td>0.941176</td>\n",
       "      <td>1.529412</td>\n",
       "      <td>-0.588235</td>\n",
       "      <td>23</td>\n",
       "      <td>1.352941</td>\n",
       "      <td>1.352941</td>\n",
       "      <td>1.764706</td>\n",
       "      <td>-0.411765</td>\n",
       "    </tr>\n",
       "    <tr>\n",
       "      <th>12</th>\n",
       "      <td>Augsburg</td>\n",
       "      <td>34</td>\n",
       "      <td>10</td>\n",
       "      <td>6</td>\n",
       "      <td>18</td>\n",
       "      <td>36</td>\n",
       "      <td>54</td>\n",
       "      <td>17</td>\n",
       "      <td>6</td>\n",
       "      <td>4</td>\n",
       "      <td>...</td>\n",
       "      <td>22</td>\n",
       "      <td>1.294118</td>\n",
       "      <td>1.235294</td>\n",
       "      <td>1.470588</td>\n",
       "      <td>-0.235294</td>\n",
       "      <td>14</td>\n",
       "      <td>0.823529</td>\n",
       "      <td>0.882353</td>\n",
       "      <td>1.705882</td>\n",
       "      <td>-0.823529</td>\n",
       "    </tr>\n",
       "    <tr>\n",
       "      <th>13</th>\n",
       "      <td>Hertha Berlin</td>\n",
       "      <td>34</td>\n",
       "      <td>8</td>\n",
       "      <td>11</td>\n",
       "      <td>15</td>\n",
       "      <td>41</td>\n",
       "      <td>52</td>\n",
       "      <td>17</td>\n",
       "      <td>5</td>\n",
       "      <td>5</td>\n",
       "      <td>...</td>\n",
       "      <td>20</td>\n",
       "      <td>1.176471</td>\n",
       "      <td>1.235294</td>\n",
       "      <td>1.529412</td>\n",
       "      <td>-0.294118</td>\n",
       "      <td>15</td>\n",
       "      <td>0.882353</td>\n",
       "      <td>1.176471</td>\n",
       "      <td>1.529412</td>\n",
       "      <td>-0.352941</td>\n",
       "    </tr>\n",
       "    <tr>\n",
       "      <th>14</th>\n",
       "      <td>Arminia Bie…</td>\n",
       "      <td>34</td>\n",
       "      <td>9</td>\n",
       "      <td>8</td>\n",
       "      <td>17</td>\n",
       "      <td>26</td>\n",
       "      <td>52</td>\n",
       "      <td>17</td>\n",
       "      <td>6</td>\n",
       "      <td>2</td>\n",
       "      <td>...</td>\n",
       "      <td>20</td>\n",
       "      <td>1.176471</td>\n",
       "      <td>0.764706</td>\n",
       "      <td>1.352941</td>\n",
       "      <td>-0.588235</td>\n",
       "      <td>15</td>\n",
       "      <td>0.882353</td>\n",
       "      <td>0.764706</td>\n",
       "      <td>1.705882</td>\n",
       "      <td>-0.941176</td>\n",
       "    </tr>\n",
       "    <tr>\n",
       "      <th>15</th>\n",
       "      <td>FC Cologne</td>\n",
       "      <td>34</td>\n",
       "      <td>8</td>\n",
       "      <td>9</td>\n",
       "      <td>17</td>\n",
       "      <td>34</td>\n",
       "      <td>60</td>\n",
       "      <td>17</td>\n",
       "      <td>3</td>\n",
       "      <td>5</td>\n",
       "      <td>...</td>\n",
       "      <td>14</td>\n",
       "      <td>0.823529</td>\n",
       "      <td>1.176471</td>\n",
       "      <td>1.823529</td>\n",
       "      <td>-0.647059</td>\n",
       "      <td>19</td>\n",
       "      <td>1.117647</td>\n",
       "      <td>0.823529</td>\n",
       "      <td>1.705882</td>\n",
       "      <td>-0.882353</td>\n",
       "    </tr>\n",
       "    <tr>\n",
       "      <th>16</th>\n",
       "      <td>Werder Bremen</td>\n",
       "      <td>34</td>\n",
       "      <td>7</td>\n",
       "      <td>10</td>\n",
       "      <td>17</td>\n",
       "      <td>36</td>\n",
       "      <td>57</td>\n",
       "      <td>17</td>\n",
       "      <td>3</td>\n",
       "      <td>5</td>\n",
       "      <td>...</td>\n",
       "      <td>14</td>\n",
       "      <td>0.823529</td>\n",
       "      <td>0.941176</td>\n",
       "      <td>1.647059</td>\n",
       "      <td>-0.705882</td>\n",
       "      <td>17</td>\n",
       "      <td>1.000000</td>\n",
       "      <td>1.176471</td>\n",
       "      <td>1.705882</td>\n",
       "      <td>-0.529412</td>\n",
       "    </tr>\n",
       "    <tr>\n",
       "      <th>17</th>\n",
       "      <td>Schalke 04</td>\n",
       "      <td>34</td>\n",
       "      <td>3</td>\n",
       "      <td>7</td>\n",
       "      <td>24</td>\n",
       "      <td>25</td>\n",
       "      <td>86</td>\n",
       "      <td>17</td>\n",
       "      <td>3</td>\n",
       "      <td>3</td>\n",
       "      <td>...</td>\n",
       "      <td>12</td>\n",
       "      <td>0.705882</td>\n",
       "      <td>0.823529</td>\n",
       "      <td>2.000000</td>\n",
       "      <td>-1.176471</td>\n",
       "      <td>4</td>\n",
       "      <td>0.235294</td>\n",
       "      <td>0.647059</td>\n",
       "      <td>3.058824</td>\n",
       "      <td>-2.411765</td>\n",
       "    </tr>\n",
       "  </tbody>\n",
       "</table>\n",
       "<p>18 rows × 32 columns</p>\n",
       "</div>"
      ],
      "text/plain": [
       "             Team  total_mp  total_won  total_drawn  total_lost  total_gf  \\\n",
       "0   Bayern Munich        34         24            6           4        99   \n",
       "1      RB Leipzig        34         19            8           7        60   \n",
       "2    Borussia Do…        34         20            4          10        75   \n",
       "3       Wolfsburg        34         17           10           7        61   \n",
       "4    Eintracht F…        34         16           12           6        69   \n",
       "5    Bayer Lever…        34         14           10          10        53   \n",
       "6    Union Berlin        34         12           14           8        50   \n",
       "7    Borussia M'…        34         13           10          11        64   \n",
       "8       Stuttgart        34         12            9          13        56   \n",
       "9        Freiburg        34         12            9          13        52   \n",
       "10     Hoffenheim        34         11           10          13        52   \n",
       "11          Mainz        34         10            9          15        39   \n",
       "12       Augsburg        34         10            6          18        36   \n",
       "13  Hertha Berlin        34          8           11          15        41   \n",
       "14   Arminia Bie…        34          9            8          17        26   \n",
       "15     FC Cologne        34          8            9          17        34   \n",
       "16  Werder Bremen        34          7           10          17        36   \n",
       "17     Schalke 04        34          3            7          24        25   \n",
       "\n",
       "    total_ga  home_mp  home_won  home_drawn  ...  home_points  home_ppg  \\\n",
       "0         44       17        13           4  ...           43  2.529412   \n",
       "1         32       17        11           4  ...           37  2.176471   \n",
       "2         46       17        11           2  ...           35  2.058824   \n",
       "3         37       17        10           4  ...           34  2.000000   \n",
       "4         53       17        10           7  ...           37  2.176471   \n",
       "5         39       17         8           5  ...           29  1.705882   \n",
       "6         43       17         8           8  ...           32  1.882353   \n",
       "7         56       17         8           4  ...           28  1.647059   \n",
       "8         55       17         5           6  ...           21  1.235294   \n",
       "9         52       17         7           6  ...           27  1.588235   \n",
       "10        54       17         8           3  ...           27  1.588235   \n",
       "11        56       17         4           4  ...           16  0.941176   \n",
       "12        54       17         6           4  ...           22  1.294118   \n",
       "13        52       17         5           5  ...           20  1.176471   \n",
       "14        52       17         6           2  ...           20  1.176471   \n",
       "15        60       17         3           5  ...           14  0.823529   \n",
       "16        57       17         3           5  ...           14  0.823529   \n",
       "17        86       17         3           3  ...           12  0.705882   \n",
       "\n",
       "    home_gfpg  home_gapg  home_dpg  away_points  away_ppg  away_gfpg  \\\n",
       "0    3.764706   1.235294  2.529412           35  2.058824   2.058824   \n",
       "1    1.705882   0.764706  0.941176           28  1.647059   1.823529   \n",
       "2    2.352941   1.176471  1.176471           29  1.705882   2.058824   \n",
       "3    1.882353   0.941176  0.941176           27  1.588235   1.705882   \n",
       "4    2.176471   1.176471  1.000000           23  1.352941   1.882353   \n",
       "5    2.000000   1.294118  0.705882           23  1.352941   1.117647   \n",
       "6    1.882353   1.058824  0.823529           18  1.058824   1.058824   \n",
       "7    1.882353   1.117647  0.764706           21  1.235294   1.882353   \n",
       "8    1.588235   1.529412  0.058824           24  1.411765   1.705882   \n",
       "9    1.941176   1.352941  0.588235           18  1.058824   1.117647   \n",
       "10   1.882353   1.411765  0.470588           16  0.941176   1.176471   \n",
       "11   0.941176   1.529412 -0.588235           23  1.352941   1.352941   \n",
       "12   1.235294   1.470588 -0.235294           14  0.823529   0.882353   \n",
       "13   1.235294   1.529412 -0.294118           15  0.882353   1.176471   \n",
       "14   0.764706   1.352941 -0.588235           15  0.882353   0.764706   \n",
       "15   1.176471   1.823529 -0.647059           19  1.117647   0.823529   \n",
       "16   0.941176   1.647059 -0.705882           17  1.000000   1.176471   \n",
       "17   0.823529   2.000000 -1.176471            4  0.235294   0.647059   \n",
       "\n",
       "    away_gapg  away_dpg  \n",
       "0    1.352941  0.705882  \n",
       "1    1.117647  0.705882  \n",
       "2    1.529412  0.529412  \n",
       "3    1.235294  0.470588  \n",
       "4    1.941176 -0.058824  \n",
       "5    1.000000  0.117647  \n",
       "6    1.470588 -0.411765  \n",
       "7    2.176471 -0.294118  \n",
       "8    1.705882  0.000000  \n",
       "9    1.705882 -0.588235  \n",
       "10   1.764706 -0.588235  \n",
       "11   1.764706 -0.411765  \n",
       "12   1.705882 -0.823529  \n",
       "13   1.529412 -0.352941  \n",
       "14   1.705882 -0.941176  \n",
       "15   1.705882 -0.882353  \n",
       "16   1.705882 -0.529412  \n",
       "17   3.058824 -2.411765  \n",
       "\n",
       "[18 rows x 32 columns]"
      ]
     },
     "execution_count": 48,
     "metadata": {},
     "output_type": "execute_result"
    }
   ],
   "source": [
    "df_table = pd.read_csv(table_location, index_col=False)\n",
    "\n",
    "df_table = df_table.rename(columns={'Unnamed: 0': 'Team'})\n",
    "df_table['Position'] = df_table.index\n",
    "\n",
    "df_table['home_points'] = (df_table['home_won'] * 3) + df_table['home_drawn']\n",
    "df_table['home_ppg'] = df_table['home_points'] / df_table['home_mp']\n",
    "df_table['home_gfpg'] = df_table['home_gf'] / df_table['home_mp']\n",
    "df_table['home_gapg'] = df_table['home_ga'] / df_table['home_mp']\n",
    "df_table['home_dpg'] = (df_table['home_gf'] - df_table['home_ga'])/ df_table['home_mp']\n",
    "\n",
    "df_table['away_points'] = (df_table['away_won'] * 3) + df_table['away_drawn']\n",
    "df_table['away_ppg'] = df_table['away_points'] / df_table['away_mp']\n",
    "df_table['away_gfpg'] = df_table['away_gf'] / df_table['away_mp']\n",
    "df_table['away_gapg'] = df_table['away_ga'] / df_table['away_mp']\n",
    "df_table['away_dpg'] = (df_table['away_gf'] - df_table['away_ga'])/ df_table['away_mp']\n",
    "\n",
    "df_table"
   ]
  },
  {
   "cell_type": "markdown",
   "id": "8ee89f7a-9e8e-4bb6-99aa-1bd64c3b913e",
   "metadata": {},
   "source": [
    "### Part 2: Graph\n",
    "\n",
    "The p2pGraph function then creates individual p2p graphs, with two teams able to be highlighted. These two teams are noted as 'home' and 'away' as this function is designed to be be used automatically each matchday to produce p2p graphs for that round's various opponents. These two teams are positioned on top of all the other teams' lines (in other words, they are moved to the bottom of the dataframe table).\n",
    "\n",
    "Four custom style functions have been built into the graph function: 'Default', 'Minimalist', 'Pastely', 'LightBlueBack'. Access these via the chosen_style variable.\n",
    "\n",
    "Unlike the Plotly Express version, this allows for subplotting. "
   ]
  },
  {
   "cell_type": "code",
   "execution_count": 71,
   "id": "679e1fe7-117a-4911-a96e-ebf112e1c816",
   "metadata": {},
   "outputs": [],
   "source": [
    "def allPlots(league, season, hometeam, hometeam_altname, awayteam, awayteam_altname, chosen_style):\n",
    "    \n",
    "    fig = make_subplots(rows=1, cols=4, subplot_titles = ['x', 'x', 'x', 'x'])\n",
    "    \n",
    "    fig.update_layout(margin=dict(l=1, r=0, t=100, b=20), height=600, width=980)\n",
    "    \n",
    "    # Title\n",
    "    fig.update_layout(title=f\"<b>{league} {season}</b></br></br>\")\n",
    "    fig['layout']['title']['x'] = 0\n",
    "\n",
    "    \n",
    "    ### INSERT DATA ###############################################################################\n",
    "    \n",
    "    # Put the seleceted teams at bottom of table, so their lines appear on top of graph\n",
    "    \n",
    "    df_table.loc[df_table['Team'] == hometeam,'Team'] = hometeam_altname\n",
    "    df_table.loc[df_table['Team'] == awayteam,'Team'] = awayteam_altname\n",
    "    \n",
    "    hometeam, awayteam = hometeam_altname, awayteam_altname\n",
    "    \n",
    "    pos1 = df_table.loc[df_table['Team'] == hometeam, 'Position'].values[0]\n",
    "    pos2 = df_table.loc[df_table['Team'] == awayteam, 'Position'].values[0]\n",
    "\n",
    "    df_plot = df_table.copy()\n",
    "\n",
    "    df_plot.loc[18] = df_plot.loc[pos2]\n",
    "    df_plot.loc[19] = df_plot.loc[pos1]  \n",
    "\n",
    "    #df_plot = df_plot.drop([pos1-1, pos2-1])\n",
    "\n",
    "    \n",
    "    print(pos1, pos2)\n",
    "        \n",
    "    def makeSuplot(subplot, criteriaL, criteriaR):\n",
    "\n",
    "        for index, row in df_plot.iterrows():\n",
    "\n",
    "            fig.add_trace(\n",
    "                go.Scatter(\n",
    "                    x = [0,1],\n",
    "                    y = [row[criteriaL], row[criteriaR]],\n",
    "                    mode=\"lines\",\n",
    "                    name = row['Team'],\n",
    "                    line=dict(color=\"black\"),\n",
    "                ),\n",
    "                row=1, col=subplot\n",
    "            )\n",
    "            \n",
    "    makeSuplot(1, 'home_ppg', 'away_ppg')\n",
    "    makeSuplot(2, 'home_gfpg', 'away_gfpg')\n",
    "    makeSuplot(3, 'home_gapg', 'away_gapg')\n",
    "    makeSuplot(4, 'home_dpg', 'away_dpg')\n",
    "\n",
    "\n",
    "\n",
    "    ### STYLING ###################################################################################\n",
    "    \n",
    "    ## Stylesheet \n",
    "    styles_df = pd.read_csv('styles.csv', index_col=0)\n",
    "    \n",
    "    plot_bg = styles_df.loc[chosen_style, 'Plot background']\n",
    "    outer_bg = styles_df.loc[chosen_style, 'Outer background']\n",
    "    hover_bg = styles_df.loc[chosen_style, 'Hover background']\n",
    "\n",
    "    hometeam_color = styles_df.loc[chosen_style, 'Home team color']\n",
    "    awayteam_color = styles_df.loc[chosen_style, 'Away team color']\n",
    "    neutralteam_color = styles_df.loc[chosen_style, 'Neutral team color']\n",
    "    \n",
    "    # Main colors\n",
    "    fig['layout']['plot_bgcolor'] = plot_bg\n",
    "    fig['layout']['paper_bgcolor'] = outer_bg\n",
    "    \n",
    "\n",
    "    # Hover label styline    \n",
    "    fig['layout']['hoverlabel']['bgcolor'] = hover_bg\n",
    "    fig['layout']['hoverlabel']['font']['family'] = 'Consolas'\n",
    "    fig['layout']['hoverlabel']['font']['size'] = 12\n",
    "\n",
    "    # Text\n",
    "    fig['layout']['font']['family'] = 'Arial'\n",
    "    fig['layout']['font']['color'] = '#181818'\n",
    "    \n",
    "    \n",
    "    \n",
    "    \n",
    "    ### CUSTOMIZING #############################################################################\n",
    "    \n",
    "    # Line infos\n",
    "    i = 0\n",
    "    for trace in fig['data']: \n",
    "         \n",
    "        if trace['name'] in [hometeam, awayteam]:\n",
    "            trace['showlegend'] = True\n",
    "            trace['line']['width'] = 4;\n",
    "            if trace['name'] == hometeam:\n",
    "                trace['line']['color'] = hometeam_color\n",
    "            elif trace['name'] == awayteam:\n",
    "                trace['line']['color'] = awayteam_color\n",
    "                \n",
    "            if i > 1:\n",
    "                trace['showlegend'] = False;\n",
    "            i += 1\n",
    "                \n",
    "            \n",
    "        else:\n",
    "            trace['showlegend'] = False;\n",
    "            trace['line']['width'] = 2;\n",
    "            trace['line']['color'] = neutralteam_color\n",
    "            \n",
    "        trace['hovertemplate'] = f\"<b>{trace['name']}</b>\" + \"<br>%{x}: %{y}<extra></extra>\"\n",
    "    \n",
    "    # X-Axes\n",
    "    fig.update_layout(xaxis1=dict(tickmode = 'array', tickvals = [0, 1], ticktext = ['Home', 'Away']))\n",
    "    fig.update_layout(xaxis2=dict(tickmode = 'array', tickvals = [0, 1], ticktext = ['Home', 'Away']))\n",
    "    fig.update_layout(xaxis3=dict(tickmode = 'array', tickvals = [0, 1], ticktext = ['Home', 'Away']))\n",
    "    fig.update_layout(xaxis4=dict(tickmode = 'array', tickvals = [0, 1], ticktext = ['Home', 'Away']))\n",
    "    \n",
    "    # Y-Axes range\n",
    "    \n",
    "    hi =  max([df_table['home_gfpg'].max(), df_table['away_gfpg'].max(), df_table['home_gapg'].max(), df_table['away_gapg'].max(), ])\n",
    "    fig.update_layout(yaxis1=dict(range=[0.001, 3]))\n",
    "    fig.update_layout(yaxis2=dict(range=[0.001, hi]))\n",
    "    fig.update_layout(yaxis3=dict(range=[0.001, hi]))\n",
    "    \n",
    "    lo =  min([df_table['home_dpg'].min(), df_table['away_dpg'].min()])\n",
    "    hi =  max([df_table['home_dpg'].max(), df_table['away_dpg'].max()])\n",
    "    fig.update_layout(yaxis4=dict(range=[lo, hi]))\n",
    "    \n",
    "    \n",
    "    # Subheads\n",
    "    \n",
    "    subtitle_A = 'Points per game'\n",
    "    subtitle_B = 'Goals for per game'\n",
    "    subtitle_C = 'Goals against per game'\n",
    "    subtitle_D = 'Goal difference per game'\n",
    "\n",
    "    fig.layout.annotations[0]['text'] = f'<b>{subtitle_A}</b>'\n",
    "    fig.layout.annotations[1]['text'] = f'<b>{subtitle_B}</b>'\n",
    "    fig.layout.annotations[2]['text'] = f'<b>{subtitle_C}</b>'\n",
    "    fig.layout.annotations[3]['text'] = f'<b>{subtitle_D}</b>'\n",
    "\n",
    "    for i in range(0,4):\n",
    "        fig.layout.annotations[i]['font']['size'] = 12\n",
    "        fig.layout.annotations[i]['x'] = i / 3.8\n",
    "        fig.layout.annotations[i]['xanchor'] = 'left'\n",
    "        fig.layout.annotations[i]['y'] = 1.05\n",
    "        \n",
    "    # Legend\n",
    "    \n",
    "    fig['layout']['legend']['orientation'] = 'h'\n",
    "    fig['layout']['legend']['yanchor'] = 'top'\n",
    "    fig['layout']['legend']['xanchor'] = 'left'\n",
    "    \n",
    "    fig.update_layout(legend=dict(\n",
    "        orientation=\"h\",\n",
    "        x=0.75,\n",
    "        yanchor=\"bottom\", y=1.1,\n",
    "        ))\n",
    "\n",
    "    fig.show()\n",
    "    \n",
    "    fig.write_html(f\"Visualisations/{league}_{season}_{hometeam}_{awayteam}_muliplot_point2pointGraph.html\")\n"
   ]
  },
  {
   "cell_type": "code",
   "execution_count": 72,
   "id": "017dd00e-fa80-43f7-b399-7828cda54457",
   "metadata": {},
   "outputs": [
    {
     "name": "stdout",
     "output_type": "stream",
     "text": [
      "13 6\n"
     ]
    },
    {
     "data": {
      "application/vnd.plotly.v1+json": {
       "config": {
        "plotlyServerURL": "https://plot.ly"
       },
       "data": [
        {
         "hovertemplate": "<b>Bayern Munich</b><br>%{x}: %{y}<extra></extra>",
         "line": {
          "color": "#E0E4E8",
          "width": 2
         },
         "mode": "lines",
         "name": "Bayern Munich",
         "showlegend": false,
         "type": "scatter",
         "x": [
          0,
          1
         ],
         "xaxis": "x",
         "y": [
          2.5294117647058822,
          2.0588235294117645
         ],
         "yaxis": "y"
        },
        {
         "hovertemplate": "<b>RB Leipzig</b><br>%{x}: %{y}<extra></extra>",
         "line": {
          "color": "#E0E4E8",
          "width": 2
         },
         "mode": "lines",
         "name": "RB Leipzig",
         "showlegend": false,
         "type": "scatter",
         "x": [
          0,
          1
         ],
         "xaxis": "x",
         "y": [
          2.176470588235294,
          1.6470588235294117
         ],
         "yaxis": "y"
        },
        {
         "hovertemplate": "<b>Borussia Do…</b><br>%{x}: %{y}<extra></extra>",
         "line": {
          "color": "#E0E4E8",
          "width": 2
         },
         "mode": "lines",
         "name": "Borussia Do…",
         "showlegend": false,
         "type": "scatter",
         "x": [
          0,
          1
         ],
         "xaxis": "x",
         "y": [
          2.0588235294117645,
          1.7058823529411764
         ],
         "yaxis": "y"
        },
        {
         "hovertemplate": "<b>Wolfsburg</b><br>%{x}: %{y}<extra></extra>",
         "line": {
          "color": "#E0E4E8",
          "width": 2
         },
         "mode": "lines",
         "name": "Wolfsburg",
         "showlegend": false,
         "type": "scatter",
         "x": [
          0,
          1
         ],
         "xaxis": "x",
         "y": [
          2,
          1.588235294117647
         ],
         "yaxis": "y"
        },
        {
         "hovertemplate": "<b>Eintracht F…</b><br>%{x}: %{y}<extra></extra>",
         "line": {
          "color": "#E0E4E8",
          "width": 2
         },
         "mode": "lines",
         "name": "Eintracht F…",
         "showlegend": false,
         "type": "scatter",
         "x": [
          0,
          1
         ],
         "xaxis": "x",
         "y": [
          2.176470588235294,
          1.3529411764705883
         ],
         "yaxis": "y"
        },
        {
         "hovertemplate": "<b>Bayer Lever…</b><br>%{x}: %{y}<extra></extra>",
         "line": {
          "color": "#E0E4E8",
          "width": 2
         },
         "mode": "lines",
         "name": "Bayer Lever…",
         "showlegend": false,
         "type": "scatter",
         "x": [
          0,
          1
         ],
         "xaxis": "x",
         "y": [
          1.7058823529411764,
          1.3529411764705883
         ],
         "yaxis": "y"
        },
        {
         "hovertemplate": "<b>1. FC Union</b><br>%{x}: %{y}<extra></extra>",
         "line": {
          "color": "#E67451",
          "width": 4
         },
         "mode": "lines",
         "name": "1. FC Union",
         "showlegend": true,
         "type": "scatter",
         "x": [
          0,
          1
         ],
         "xaxis": "x",
         "y": [
          1.8823529411764706,
          1.0588235294117647
         ],
         "yaxis": "y"
        },
        {
         "hovertemplate": "<b>Borussia M'…</b><br>%{x}: %{y}<extra></extra>",
         "line": {
          "color": "#E0E4E8",
          "width": 2
         },
         "mode": "lines",
         "name": "Borussia M'…",
         "showlegend": false,
         "type": "scatter",
         "x": [
          0,
          1
         ],
         "xaxis": "x",
         "y": [
          1.6470588235294117,
          1.2352941176470589
         ],
         "yaxis": "y"
        },
        {
         "hovertemplate": "<b>Stuttgart</b><br>%{x}: %{y}<extra></extra>",
         "line": {
          "color": "#E0E4E8",
          "width": 2
         },
         "mode": "lines",
         "name": "Stuttgart",
         "showlegend": false,
         "type": "scatter",
         "x": [
          0,
          1
         ],
         "xaxis": "x",
         "y": [
          1.2352941176470589,
          1.411764705882353
         ],
         "yaxis": "y"
        },
        {
         "hovertemplate": "<b>Freiburg</b><br>%{x}: %{y}<extra></extra>",
         "line": {
          "color": "#E0E4E8",
          "width": 2
         },
         "mode": "lines",
         "name": "Freiburg",
         "showlegend": false,
         "type": "scatter",
         "x": [
          0,
          1
         ],
         "xaxis": "x",
         "y": [
          1.588235294117647,
          1.0588235294117647
         ],
         "yaxis": "y"
        },
        {
         "hovertemplate": "<b>Hoffenheim</b><br>%{x}: %{y}<extra></extra>",
         "line": {
          "color": "#E0E4E8",
          "width": 2
         },
         "mode": "lines",
         "name": "Hoffenheim",
         "showlegend": false,
         "type": "scatter",
         "x": [
          0,
          1
         ],
         "xaxis": "x",
         "y": [
          1.588235294117647,
          0.9411764705882353
         ],
         "yaxis": "y"
        },
        {
         "hovertemplate": "<b>Mainz</b><br>%{x}: %{y}<extra></extra>",
         "line": {
          "color": "#E0E4E8",
          "width": 2
         },
         "mode": "lines",
         "name": "Mainz",
         "showlegend": false,
         "type": "scatter",
         "x": [
          0,
          1
         ],
         "xaxis": "x",
         "y": [
          0.9411764705882353,
          1.3529411764705883
         ],
         "yaxis": "y"
        },
        {
         "hovertemplate": "<b>Augsburg</b><br>%{x}: %{y}<extra></extra>",
         "line": {
          "color": "#E0E4E8",
          "width": 2
         },
         "mode": "lines",
         "name": "Augsburg",
         "showlegend": false,
         "type": "scatter",
         "x": [
          0,
          1
         ],
         "xaxis": "x",
         "y": [
          1.2941176470588236,
          0.8235294117647058
         ],
         "yaxis": "y"
        },
        {
         "hovertemplate": "<b>Hertha BSC</b><br>%{x}: %{y}<extra></extra>",
         "line": {
          "color": "#4682B4",
          "width": 4
         },
         "mode": "lines",
         "name": "Hertha BSC",
         "showlegend": true,
         "type": "scatter",
         "x": [
          0,
          1
         ],
         "xaxis": "x",
         "y": [
          1.1764705882352942,
          0.8823529411764706
         ],
         "yaxis": "y"
        },
        {
         "hovertemplate": "<b>Arminia Bie…</b><br>%{x}: %{y}<extra></extra>",
         "line": {
          "color": "#E0E4E8",
          "width": 2
         },
         "mode": "lines",
         "name": "Arminia Bie…",
         "showlegend": false,
         "type": "scatter",
         "x": [
          0,
          1
         ],
         "xaxis": "x",
         "y": [
          1.1764705882352942,
          0.8823529411764706
         ],
         "yaxis": "y"
        },
        {
         "hovertemplate": "<b>FC Cologne</b><br>%{x}: %{y}<extra></extra>",
         "line": {
          "color": "#E0E4E8",
          "width": 2
         },
         "mode": "lines",
         "name": "FC Cologne",
         "showlegend": false,
         "type": "scatter",
         "x": [
          0,
          1
         ],
         "xaxis": "x",
         "y": [
          0.8235294117647058,
          1.1176470588235294
         ],
         "yaxis": "y"
        },
        {
         "hovertemplate": "<b>Werder Bremen</b><br>%{x}: %{y}<extra></extra>",
         "line": {
          "color": "#E0E4E8",
          "width": 2
         },
         "mode": "lines",
         "name": "Werder Bremen",
         "showlegend": false,
         "type": "scatter",
         "x": [
          0,
          1
         ],
         "xaxis": "x",
         "y": [
          0.8235294117647058,
          1
         ],
         "yaxis": "y"
        },
        {
         "hovertemplate": "<b>Schalke 04</b><br>%{x}: %{y}<extra></extra>",
         "line": {
          "color": "#E0E4E8",
          "width": 2
         },
         "mode": "lines",
         "name": "Schalke 04",
         "showlegend": false,
         "type": "scatter",
         "x": [
          0,
          1
         ],
         "xaxis": "x",
         "y": [
          0.7058823529411765,
          0.23529411764705882
         ],
         "yaxis": "y"
        },
        {
         "hovertemplate": "<b>1. FC Union</b><br>%{x}: %{y}<extra></extra>",
         "line": {
          "color": "#E67451",
          "width": 4
         },
         "mode": "lines",
         "name": "1. FC Union",
         "showlegend": false,
         "type": "scatter",
         "x": [
          0,
          1
         ],
         "xaxis": "x",
         "y": [
          1.8823529411764706,
          1.0588235294117647
         ],
         "yaxis": "y"
        },
        {
         "hovertemplate": "<b>Hertha BSC</b><br>%{x}: %{y}<extra></extra>",
         "line": {
          "color": "#4682B4",
          "width": 4
         },
         "mode": "lines",
         "name": "Hertha BSC",
         "showlegend": false,
         "type": "scatter",
         "x": [
          0,
          1
         ],
         "xaxis": "x",
         "y": [
          1.1764705882352942,
          0.8823529411764706
         ],
         "yaxis": "y"
        },
        {
         "hovertemplate": "<b>Bayern Munich</b><br>%{x}: %{y}<extra></extra>",
         "line": {
          "color": "#E0E4E8",
          "width": 2
         },
         "mode": "lines",
         "name": "Bayern Munich",
         "showlegend": false,
         "type": "scatter",
         "x": [
          0,
          1
         ],
         "xaxis": "x2",
         "y": [
          3.764705882352941,
          2.0588235294117645
         ],
         "yaxis": "y2"
        },
        {
         "hovertemplate": "<b>RB Leipzig</b><br>%{x}: %{y}<extra></extra>",
         "line": {
          "color": "#E0E4E8",
          "width": 2
         },
         "mode": "lines",
         "name": "RB Leipzig",
         "showlegend": false,
         "type": "scatter",
         "x": [
          0,
          1
         ],
         "xaxis": "x2",
         "y": [
          1.7058823529411764,
          1.8235294117647058
         ],
         "yaxis": "y2"
        },
        {
         "hovertemplate": "<b>Borussia Do…</b><br>%{x}: %{y}<extra></extra>",
         "line": {
          "color": "#E0E4E8",
          "width": 2
         },
         "mode": "lines",
         "name": "Borussia Do…",
         "showlegend": false,
         "type": "scatter",
         "x": [
          0,
          1
         ],
         "xaxis": "x2",
         "y": [
          2.3529411764705883,
          2.0588235294117645
         ],
         "yaxis": "y2"
        },
        {
         "hovertemplate": "<b>Wolfsburg</b><br>%{x}: %{y}<extra></extra>",
         "line": {
          "color": "#E0E4E8",
          "width": 2
         },
         "mode": "lines",
         "name": "Wolfsburg",
         "showlegend": false,
         "type": "scatter",
         "x": [
          0,
          1
         ],
         "xaxis": "x2",
         "y": [
          1.8823529411764706,
          1.7058823529411764
         ],
         "yaxis": "y2"
        },
        {
         "hovertemplate": "<b>Eintracht F…</b><br>%{x}: %{y}<extra></extra>",
         "line": {
          "color": "#E0E4E8",
          "width": 2
         },
         "mode": "lines",
         "name": "Eintracht F…",
         "showlegend": false,
         "type": "scatter",
         "x": [
          0,
          1
         ],
         "xaxis": "x2",
         "y": [
          2.176470588235294,
          1.8823529411764706
         ],
         "yaxis": "y2"
        },
        {
         "hovertemplate": "<b>Bayer Lever…</b><br>%{x}: %{y}<extra></extra>",
         "line": {
          "color": "#E0E4E8",
          "width": 2
         },
         "mode": "lines",
         "name": "Bayer Lever…",
         "showlegend": false,
         "type": "scatter",
         "x": [
          0,
          1
         ],
         "xaxis": "x2",
         "y": [
          2,
          1.1176470588235294
         ],
         "yaxis": "y2"
        },
        {
         "hovertemplate": "<b>1. FC Union</b><br>%{x}: %{y}<extra></extra>",
         "line": {
          "color": "#E67451",
          "width": 4
         },
         "mode": "lines",
         "name": "1. FC Union",
         "showlegend": false,
         "type": "scatter",
         "x": [
          0,
          1
         ],
         "xaxis": "x2",
         "y": [
          1.8823529411764706,
          1.0588235294117647
         ],
         "yaxis": "y2"
        },
        {
         "hovertemplate": "<b>Borussia M'…</b><br>%{x}: %{y}<extra></extra>",
         "line": {
          "color": "#E0E4E8",
          "width": 2
         },
         "mode": "lines",
         "name": "Borussia M'…",
         "showlegend": false,
         "type": "scatter",
         "x": [
          0,
          1
         ],
         "xaxis": "x2",
         "y": [
          1.8823529411764706,
          1.8823529411764706
         ],
         "yaxis": "y2"
        },
        {
         "hovertemplate": "<b>Stuttgart</b><br>%{x}: %{y}<extra></extra>",
         "line": {
          "color": "#E0E4E8",
          "width": 2
         },
         "mode": "lines",
         "name": "Stuttgart",
         "showlegend": false,
         "type": "scatter",
         "x": [
          0,
          1
         ],
         "xaxis": "x2",
         "y": [
          1.588235294117647,
          1.7058823529411764
         ],
         "yaxis": "y2"
        },
        {
         "hovertemplate": "<b>Freiburg</b><br>%{x}: %{y}<extra></extra>",
         "line": {
          "color": "#E0E4E8",
          "width": 2
         },
         "mode": "lines",
         "name": "Freiburg",
         "showlegend": false,
         "type": "scatter",
         "x": [
          0,
          1
         ],
         "xaxis": "x2",
         "y": [
          1.9411764705882353,
          1.1176470588235294
         ],
         "yaxis": "y2"
        },
        {
         "hovertemplate": "<b>Hoffenheim</b><br>%{x}: %{y}<extra></extra>",
         "line": {
          "color": "#E0E4E8",
          "width": 2
         },
         "mode": "lines",
         "name": "Hoffenheim",
         "showlegend": false,
         "type": "scatter",
         "x": [
          0,
          1
         ],
         "xaxis": "x2",
         "y": [
          1.8823529411764706,
          1.1764705882352942
         ],
         "yaxis": "y2"
        },
        {
         "hovertemplate": "<b>Mainz</b><br>%{x}: %{y}<extra></extra>",
         "line": {
          "color": "#E0E4E8",
          "width": 2
         },
         "mode": "lines",
         "name": "Mainz",
         "showlegend": false,
         "type": "scatter",
         "x": [
          0,
          1
         ],
         "xaxis": "x2",
         "y": [
          0.9411764705882353,
          1.3529411764705883
         ],
         "yaxis": "y2"
        },
        {
         "hovertemplate": "<b>Augsburg</b><br>%{x}: %{y}<extra></extra>",
         "line": {
          "color": "#E0E4E8",
          "width": 2
         },
         "mode": "lines",
         "name": "Augsburg",
         "showlegend": false,
         "type": "scatter",
         "x": [
          0,
          1
         ],
         "xaxis": "x2",
         "y": [
          1.2352941176470589,
          0.8823529411764706
         ],
         "yaxis": "y2"
        },
        {
         "hovertemplate": "<b>Hertha BSC</b><br>%{x}: %{y}<extra></extra>",
         "line": {
          "color": "#4682B4",
          "width": 4
         },
         "mode": "lines",
         "name": "Hertha BSC",
         "showlegend": false,
         "type": "scatter",
         "x": [
          0,
          1
         ],
         "xaxis": "x2",
         "y": [
          1.2352941176470589,
          1.1764705882352942
         ],
         "yaxis": "y2"
        },
        {
         "hovertemplate": "<b>Arminia Bie…</b><br>%{x}: %{y}<extra></extra>",
         "line": {
          "color": "#E0E4E8",
          "width": 2
         },
         "mode": "lines",
         "name": "Arminia Bie…",
         "showlegend": false,
         "type": "scatter",
         "x": [
          0,
          1
         ],
         "xaxis": "x2",
         "y": [
          0.7647058823529411,
          0.7647058823529411
         ],
         "yaxis": "y2"
        },
        {
         "hovertemplate": "<b>FC Cologne</b><br>%{x}: %{y}<extra></extra>",
         "line": {
          "color": "#E0E4E8",
          "width": 2
         },
         "mode": "lines",
         "name": "FC Cologne",
         "showlegend": false,
         "type": "scatter",
         "x": [
          0,
          1
         ],
         "xaxis": "x2",
         "y": [
          1.1764705882352942,
          0.8235294117647058
         ],
         "yaxis": "y2"
        },
        {
         "hovertemplate": "<b>Werder Bremen</b><br>%{x}: %{y}<extra></extra>",
         "line": {
          "color": "#E0E4E8",
          "width": 2
         },
         "mode": "lines",
         "name": "Werder Bremen",
         "showlegend": false,
         "type": "scatter",
         "x": [
          0,
          1
         ],
         "xaxis": "x2",
         "y": [
          0.9411764705882353,
          1.1764705882352942
         ],
         "yaxis": "y2"
        },
        {
         "hovertemplate": "<b>Schalke 04</b><br>%{x}: %{y}<extra></extra>",
         "line": {
          "color": "#E0E4E8",
          "width": 2
         },
         "mode": "lines",
         "name": "Schalke 04",
         "showlegend": false,
         "type": "scatter",
         "x": [
          0,
          1
         ],
         "xaxis": "x2",
         "y": [
          0.8235294117647058,
          0.6470588235294118
         ],
         "yaxis": "y2"
        },
        {
         "hovertemplate": "<b>1. FC Union</b><br>%{x}: %{y}<extra></extra>",
         "line": {
          "color": "#E67451",
          "width": 4
         },
         "mode": "lines",
         "name": "1. FC Union",
         "showlegend": false,
         "type": "scatter",
         "x": [
          0,
          1
         ],
         "xaxis": "x2",
         "y": [
          1.8823529411764706,
          1.0588235294117647
         ],
         "yaxis": "y2"
        },
        {
         "hovertemplate": "<b>Hertha BSC</b><br>%{x}: %{y}<extra></extra>",
         "line": {
          "color": "#4682B4",
          "width": 4
         },
         "mode": "lines",
         "name": "Hertha BSC",
         "showlegend": false,
         "type": "scatter",
         "x": [
          0,
          1
         ],
         "xaxis": "x2",
         "y": [
          1.2352941176470589,
          1.1764705882352942
         ],
         "yaxis": "y2"
        },
        {
         "hovertemplate": "<b>Bayern Munich</b><br>%{x}: %{y}<extra></extra>",
         "line": {
          "color": "#E0E4E8",
          "width": 2
         },
         "mode": "lines",
         "name": "Bayern Munich",
         "showlegend": false,
         "type": "scatter",
         "x": [
          0,
          1
         ],
         "xaxis": "x3",
         "y": [
          1.2352941176470589,
          1.3529411764705883
         ],
         "yaxis": "y3"
        },
        {
         "hovertemplate": "<b>RB Leipzig</b><br>%{x}: %{y}<extra></extra>",
         "line": {
          "color": "#E0E4E8",
          "width": 2
         },
         "mode": "lines",
         "name": "RB Leipzig",
         "showlegend": false,
         "type": "scatter",
         "x": [
          0,
          1
         ],
         "xaxis": "x3",
         "y": [
          0.7647058823529411,
          1.1176470588235294
         ],
         "yaxis": "y3"
        },
        {
         "hovertemplate": "<b>Borussia Do…</b><br>%{x}: %{y}<extra></extra>",
         "line": {
          "color": "#E0E4E8",
          "width": 2
         },
         "mode": "lines",
         "name": "Borussia Do…",
         "showlegend": false,
         "type": "scatter",
         "x": [
          0,
          1
         ],
         "xaxis": "x3",
         "y": [
          1.1764705882352942,
          1.5294117647058822
         ],
         "yaxis": "y3"
        },
        {
         "hovertemplate": "<b>Wolfsburg</b><br>%{x}: %{y}<extra></extra>",
         "line": {
          "color": "#E0E4E8",
          "width": 2
         },
         "mode": "lines",
         "name": "Wolfsburg",
         "showlegend": false,
         "type": "scatter",
         "x": [
          0,
          1
         ],
         "xaxis": "x3",
         "y": [
          0.9411764705882353,
          1.2352941176470589
         ],
         "yaxis": "y3"
        },
        {
         "hovertemplate": "<b>Eintracht F…</b><br>%{x}: %{y}<extra></extra>",
         "line": {
          "color": "#E0E4E8",
          "width": 2
         },
         "mode": "lines",
         "name": "Eintracht F…",
         "showlegend": false,
         "type": "scatter",
         "x": [
          0,
          1
         ],
         "xaxis": "x3",
         "y": [
          1.1764705882352942,
          1.9411764705882353
         ],
         "yaxis": "y3"
        },
        {
         "hovertemplate": "<b>Bayer Lever…</b><br>%{x}: %{y}<extra></extra>",
         "line": {
          "color": "#E0E4E8",
          "width": 2
         },
         "mode": "lines",
         "name": "Bayer Lever…",
         "showlegend": false,
         "type": "scatter",
         "x": [
          0,
          1
         ],
         "xaxis": "x3",
         "y": [
          1.2941176470588236,
          1
         ],
         "yaxis": "y3"
        },
        {
         "hovertemplate": "<b>1. FC Union</b><br>%{x}: %{y}<extra></extra>",
         "line": {
          "color": "#E67451",
          "width": 4
         },
         "mode": "lines",
         "name": "1. FC Union",
         "showlegend": false,
         "type": "scatter",
         "x": [
          0,
          1
         ],
         "xaxis": "x3",
         "y": [
          1.0588235294117647,
          1.4705882352941178
         ],
         "yaxis": "y3"
        },
        {
         "hovertemplate": "<b>Borussia M'…</b><br>%{x}: %{y}<extra></extra>",
         "line": {
          "color": "#E0E4E8",
          "width": 2
         },
         "mode": "lines",
         "name": "Borussia M'…",
         "showlegend": false,
         "type": "scatter",
         "x": [
          0,
          1
         ],
         "xaxis": "x3",
         "y": [
          1.1176470588235294,
          2.176470588235294
         ],
         "yaxis": "y3"
        },
        {
         "hovertemplate": "<b>Stuttgart</b><br>%{x}: %{y}<extra></extra>",
         "line": {
          "color": "#E0E4E8",
          "width": 2
         },
         "mode": "lines",
         "name": "Stuttgart",
         "showlegend": false,
         "type": "scatter",
         "x": [
          0,
          1
         ],
         "xaxis": "x3",
         "y": [
          1.5294117647058822,
          1.7058823529411764
         ],
         "yaxis": "y3"
        },
        {
         "hovertemplate": "<b>Freiburg</b><br>%{x}: %{y}<extra></extra>",
         "line": {
          "color": "#E0E4E8",
          "width": 2
         },
         "mode": "lines",
         "name": "Freiburg",
         "showlegend": false,
         "type": "scatter",
         "x": [
          0,
          1
         ],
         "xaxis": "x3",
         "y": [
          1.3529411764705883,
          1.7058823529411764
         ],
         "yaxis": "y3"
        },
        {
         "hovertemplate": "<b>Hoffenheim</b><br>%{x}: %{y}<extra></extra>",
         "line": {
          "color": "#E0E4E8",
          "width": 2
         },
         "mode": "lines",
         "name": "Hoffenheim",
         "showlegend": false,
         "type": "scatter",
         "x": [
          0,
          1
         ],
         "xaxis": "x3",
         "y": [
          1.411764705882353,
          1.7647058823529411
         ],
         "yaxis": "y3"
        },
        {
         "hovertemplate": "<b>Mainz</b><br>%{x}: %{y}<extra></extra>",
         "line": {
          "color": "#E0E4E8",
          "width": 2
         },
         "mode": "lines",
         "name": "Mainz",
         "showlegend": false,
         "type": "scatter",
         "x": [
          0,
          1
         ],
         "xaxis": "x3",
         "y": [
          1.5294117647058822,
          1.7647058823529411
         ],
         "yaxis": "y3"
        },
        {
         "hovertemplate": "<b>Augsburg</b><br>%{x}: %{y}<extra></extra>",
         "line": {
          "color": "#E0E4E8",
          "width": 2
         },
         "mode": "lines",
         "name": "Augsburg",
         "showlegend": false,
         "type": "scatter",
         "x": [
          0,
          1
         ],
         "xaxis": "x3",
         "y": [
          1.4705882352941178,
          1.7058823529411764
         ],
         "yaxis": "y3"
        },
        {
         "hovertemplate": "<b>Hertha BSC</b><br>%{x}: %{y}<extra></extra>",
         "line": {
          "color": "#4682B4",
          "width": 4
         },
         "mode": "lines",
         "name": "Hertha BSC",
         "showlegend": false,
         "type": "scatter",
         "x": [
          0,
          1
         ],
         "xaxis": "x3",
         "y": [
          1.5294117647058822,
          1.5294117647058822
         ],
         "yaxis": "y3"
        },
        {
         "hovertemplate": "<b>Arminia Bie…</b><br>%{x}: %{y}<extra></extra>",
         "line": {
          "color": "#E0E4E8",
          "width": 2
         },
         "mode": "lines",
         "name": "Arminia Bie…",
         "showlegend": false,
         "type": "scatter",
         "x": [
          0,
          1
         ],
         "xaxis": "x3",
         "y": [
          1.3529411764705883,
          1.7058823529411764
         ],
         "yaxis": "y3"
        },
        {
         "hovertemplate": "<b>FC Cologne</b><br>%{x}: %{y}<extra></extra>",
         "line": {
          "color": "#E0E4E8",
          "width": 2
         },
         "mode": "lines",
         "name": "FC Cologne",
         "showlegend": false,
         "type": "scatter",
         "x": [
          0,
          1
         ],
         "xaxis": "x3",
         "y": [
          1.8235294117647058,
          1.7058823529411764
         ],
         "yaxis": "y3"
        },
        {
         "hovertemplate": "<b>Werder Bremen</b><br>%{x}: %{y}<extra></extra>",
         "line": {
          "color": "#E0E4E8",
          "width": 2
         },
         "mode": "lines",
         "name": "Werder Bremen",
         "showlegend": false,
         "type": "scatter",
         "x": [
          0,
          1
         ],
         "xaxis": "x3",
         "y": [
          1.6470588235294117,
          1.7058823529411764
         ],
         "yaxis": "y3"
        },
        {
         "hovertemplate": "<b>Schalke 04</b><br>%{x}: %{y}<extra></extra>",
         "line": {
          "color": "#E0E4E8",
          "width": 2
         },
         "mode": "lines",
         "name": "Schalke 04",
         "showlegend": false,
         "type": "scatter",
         "x": [
          0,
          1
         ],
         "xaxis": "x3",
         "y": [
          2,
          3.0588235294117645
         ],
         "yaxis": "y3"
        },
        {
         "hovertemplate": "<b>1. FC Union</b><br>%{x}: %{y}<extra></extra>",
         "line": {
          "color": "#E67451",
          "width": 4
         },
         "mode": "lines",
         "name": "1. FC Union",
         "showlegend": false,
         "type": "scatter",
         "x": [
          0,
          1
         ],
         "xaxis": "x3",
         "y": [
          1.0588235294117647,
          1.4705882352941178
         ],
         "yaxis": "y3"
        },
        {
         "hovertemplate": "<b>Hertha BSC</b><br>%{x}: %{y}<extra></extra>",
         "line": {
          "color": "#4682B4",
          "width": 4
         },
         "mode": "lines",
         "name": "Hertha BSC",
         "showlegend": false,
         "type": "scatter",
         "x": [
          0,
          1
         ],
         "xaxis": "x3",
         "y": [
          1.5294117647058822,
          1.5294117647058822
         ],
         "yaxis": "y3"
        },
        {
         "hovertemplate": "<b>Bayern Munich</b><br>%{x}: %{y}<extra></extra>",
         "line": {
          "color": "#E0E4E8",
          "width": 2
         },
         "mode": "lines",
         "name": "Bayern Munich",
         "showlegend": false,
         "type": "scatter",
         "x": [
          0,
          1
         ],
         "xaxis": "x4",
         "y": [
          2.5294117647058822,
          0.7058823529411765
         ],
         "yaxis": "y4"
        },
        {
         "hovertemplate": "<b>RB Leipzig</b><br>%{x}: %{y}<extra></extra>",
         "line": {
          "color": "#E0E4E8",
          "width": 2
         },
         "mode": "lines",
         "name": "RB Leipzig",
         "showlegend": false,
         "type": "scatter",
         "x": [
          0,
          1
         ],
         "xaxis": "x4",
         "y": [
          0.9411764705882353,
          0.7058823529411765
         ],
         "yaxis": "y4"
        },
        {
         "hovertemplate": "<b>Borussia Do…</b><br>%{x}: %{y}<extra></extra>",
         "line": {
          "color": "#E0E4E8",
          "width": 2
         },
         "mode": "lines",
         "name": "Borussia Do…",
         "showlegend": false,
         "type": "scatter",
         "x": [
          0,
          1
         ],
         "xaxis": "x4",
         "y": [
          1.1764705882352942,
          0.5294117647058824
         ],
         "yaxis": "y4"
        },
        {
         "hovertemplate": "<b>Wolfsburg</b><br>%{x}: %{y}<extra></extra>",
         "line": {
          "color": "#E0E4E8",
          "width": 2
         },
         "mode": "lines",
         "name": "Wolfsburg",
         "showlegend": false,
         "type": "scatter",
         "x": [
          0,
          1
         ],
         "xaxis": "x4",
         "y": [
          0.9411764705882353,
          0.47058823529411764
         ],
         "yaxis": "y4"
        },
        {
         "hovertemplate": "<b>Eintracht F…</b><br>%{x}: %{y}<extra></extra>",
         "line": {
          "color": "#E0E4E8",
          "width": 2
         },
         "mode": "lines",
         "name": "Eintracht F…",
         "showlegend": false,
         "type": "scatter",
         "x": [
          0,
          1
         ],
         "xaxis": "x4",
         "y": [
          1,
          -0.058823529411764705
         ],
         "yaxis": "y4"
        },
        {
         "hovertemplate": "<b>Bayer Lever…</b><br>%{x}: %{y}<extra></extra>",
         "line": {
          "color": "#E0E4E8",
          "width": 2
         },
         "mode": "lines",
         "name": "Bayer Lever…",
         "showlegend": false,
         "type": "scatter",
         "x": [
          0,
          1
         ],
         "xaxis": "x4",
         "y": [
          0.7058823529411765,
          0.11764705882352941
         ],
         "yaxis": "y4"
        },
        {
         "hovertemplate": "<b>1. FC Union</b><br>%{x}: %{y}<extra></extra>",
         "line": {
          "color": "#E67451",
          "width": 4
         },
         "mode": "lines",
         "name": "1. FC Union",
         "showlegend": false,
         "type": "scatter",
         "x": [
          0,
          1
         ],
         "xaxis": "x4",
         "y": [
          0.8235294117647058,
          -0.4117647058823529
         ],
         "yaxis": "y4"
        },
        {
         "hovertemplate": "<b>Borussia M'…</b><br>%{x}: %{y}<extra></extra>",
         "line": {
          "color": "#E0E4E8",
          "width": 2
         },
         "mode": "lines",
         "name": "Borussia M'…",
         "showlegend": false,
         "type": "scatter",
         "x": [
          0,
          1
         ],
         "xaxis": "x4",
         "y": [
          0.7647058823529411,
          -0.29411764705882354
         ],
         "yaxis": "y4"
        },
        {
         "hovertemplate": "<b>Stuttgart</b><br>%{x}: %{y}<extra></extra>",
         "line": {
          "color": "#E0E4E8",
          "width": 2
         },
         "mode": "lines",
         "name": "Stuttgart",
         "showlegend": false,
         "type": "scatter",
         "x": [
          0,
          1
         ],
         "xaxis": "x4",
         "y": [
          0.058823529411764705,
          0
         ],
         "yaxis": "y4"
        },
        {
         "hovertemplate": "<b>Freiburg</b><br>%{x}: %{y}<extra></extra>",
         "line": {
          "color": "#E0E4E8",
          "width": 2
         },
         "mode": "lines",
         "name": "Freiburg",
         "showlegend": false,
         "type": "scatter",
         "x": [
          0,
          1
         ],
         "xaxis": "x4",
         "y": [
          0.5882352941176471,
          -0.5882352941176471
         ],
         "yaxis": "y4"
        },
        {
         "hovertemplate": "<b>Hoffenheim</b><br>%{x}: %{y}<extra></extra>",
         "line": {
          "color": "#E0E4E8",
          "width": 2
         },
         "mode": "lines",
         "name": "Hoffenheim",
         "showlegend": false,
         "type": "scatter",
         "x": [
          0,
          1
         ],
         "xaxis": "x4",
         "y": [
          0.47058823529411764,
          -0.5882352941176471
         ],
         "yaxis": "y4"
        },
        {
         "hovertemplate": "<b>Mainz</b><br>%{x}: %{y}<extra></extra>",
         "line": {
          "color": "#E0E4E8",
          "width": 2
         },
         "mode": "lines",
         "name": "Mainz",
         "showlegend": false,
         "type": "scatter",
         "x": [
          0,
          1
         ],
         "xaxis": "x4",
         "y": [
          -0.5882352941176471,
          -0.4117647058823529
         ],
         "yaxis": "y4"
        },
        {
         "hovertemplate": "<b>Augsburg</b><br>%{x}: %{y}<extra></extra>",
         "line": {
          "color": "#E0E4E8",
          "width": 2
         },
         "mode": "lines",
         "name": "Augsburg",
         "showlegend": false,
         "type": "scatter",
         "x": [
          0,
          1
         ],
         "xaxis": "x4",
         "y": [
          -0.23529411764705882,
          -0.8235294117647058
         ],
         "yaxis": "y4"
        },
        {
         "hovertemplate": "<b>Hertha BSC</b><br>%{x}: %{y}<extra></extra>",
         "line": {
          "color": "#4682B4",
          "width": 4
         },
         "mode": "lines",
         "name": "Hertha BSC",
         "showlegend": false,
         "type": "scatter",
         "x": [
          0,
          1
         ],
         "xaxis": "x4",
         "y": [
          -0.29411764705882354,
          -0.35294117647058826
         ],
         "yaxis": "y4"
        },
        {
         "hovertemplate": "<b>Arminia Bie…</b><br>%{x}: %{y}<extra></extra>",
         "line": {
          "color": "#E0E4E8",
          "width": 2
         },
         "mode": "lines",
         "name": "Arminia Bie…",
         "showlegend": false,
         "type": "scatter",
         "x": [
          0,
          1
         ],
         "xaxis": "x4",
         "y": [
          -0.5882352941176471,
          -0.9411764705882353
         ],
         "yaxis": "y4"
        },
        {
         "hovertemplate": "<b>FC Cologne</b><br>%{x}: %{y}<extra></extra>",
         "line": {
          "color": "#E0E4E8",
          "width": 2
         },
         "mode": "lines",
         "name": "FC Cologne",
         "showlegend": false,
         "type": "scatter",
         "x": [
          0,
          1
         ],
         "xaxis": "x4",
         "y": [
          -0.6470588235294118,
          -0.8823529411764706
         ],
         "yaxis": "y4"
        },
        {
         "hovertemplate": "<b>Werder Bremen</b><br>%{x}: %{y}<extra></extra>",
         "line": {
          "color": "#E0E4E8",
          "width": 2
         },
         "mode": "lines",
         "name": "Werder Bremen",
         "showlegend": false,
         "type": "scatter",
         "x": [
          0,
          1
         ],
         "xaxis": "x4",
         "y": [
          -0.7058823529411765,
          -0.5294117647058824
         ],
         "yaxis": "y4"
        },
        {
         "hovertemplate": "<b>Schalke 04</b><br>%{x}: %{y}<extra></extra>",
         "line": {
          "color": "#E0E4E8",
          "width": 2
         },
         "mode": "lines",
         "name": "Schalke 04",
         "showlegend": false,
         "type": "scatter",
         "x": [
          0,
          1
         ],
         "xaxis": "x4",
         "y": [
          -1.1764705882352942,
          -2.411764705882353
         ],
         "yaxis": "y4"
        },
        {
         "hovertemplate": "<b>1. FC Union</b><br>%{x}: %{y}<extra></extra>",
         "line": {
          "color": "#E67451",
          "width": 4
         },
         "mode": "lines",
         "name": "1. FC Union",
         "showlegend": false,
         "type": "scatter",
         "x": [
          0,
          1
         ],
         "xaxis": "x4",
         "y": [
          0.8235294117647058,
          -0.4117647058823529
         ],
         "yaxis": "y4"
        },
        {
         "hovertemplate": "<b>Hertha BSC</b><br>%{x}: %{y}<extra></extra>",
         "line": {
          "color": "#4682B4",
          "width": 4
         },
         "mode": "lines",
         "name": "Hertha BSC",
         "showlegend": false,
         "type": "scatter",
         "x": [
          0,
          1
         ],
         "xaxis": "x4",
         "y": [
          -0.29411764705882354,
          -0.35294117647058826
         ],
         "yaxis": "y4"
        }
       ],
       "layout": {
        "annotations": [
         {
          "font": {
           "size": 12
          },
          "showarrow": false,
          "text": "<b>Points per game</b>",
          "x": 0,
          "xanchor": "left",
          "xref": "paper",
          "y": 1.05,
          "yanchor": "bottom",
          "yref": "paper"
         },
         {
          "font": {
           "size": 12
          },
          "showarrow": false,
          "text": "<b>Goals for per game</b>",
          "x": 0.2631578947368421,
          "xanchor": "left",
          "xref": "paper",
          "y": 1.05,
          "yanchor": "bottom",
          "yref": "paper"
         },
         {
          "font": {
           "size": 12
          },
          "showarrow": false,
          "text": "<b>Goals against per game</b>",
          "x": 0.5263157894736842,
          "xanchor": "left",
          "xref": "paper",
          "y": 1.05,
          "yanchor": "bottom",
          "yref": "paper"
         },
         {
          "font": {
           "size": 12
          },
          "showarrow": false,
          "text": "<b>Goal difference per game</b>",
          "x": 0.7894736842105263,
          "xanchor": "left",
          "xref": "paper",
          "y": 1.05,
          "yanchor": "bottom",
          "yref": "paper"
         }
        ],
        "font": {
         "color": "#181818",
         "family": "Arial"
        },
        "height": 600,
        "hoverlabel": {
         "bgcolor": "#FEFEFE",
         "font": {
          "family": "Consolas",
          "size": 12
         }
        },
        "legend": {
         "orientation": "h",
         "x": 0.75,
         "xanchor": "left",
         "y": 1.1,
         "yanchor": "bottom"
        },
        "margin": {
         "b": 20,
         "l": 1,
         "r": 0,
         "t": 100
        },
        "paper_bgcolor": "#FEFEFE",
        "plot_bgcolor": "#FFFFFF",
        "template": {
         "data": {
          "bar": [
           {
            "error_x": {
             "color": "#2a3f5f"
            },
            "error_y": {
             "color": "#2a3f5f"
            },
            "marker": {
             "line": {
              "color": "#E5ECF6",
              "width": 0.5
             },
             "pattern": {
              "fillmode": "overlay",
              "size": 10,
              "solidity": 0.2
             }
            },
            "type": "bar"
           }
          ],
          "barpolar": [
           {
            "marker": {
             "line": {
              "color": "#E5ECF6",
              "width": 0.5
             },
             "pattern": {
              "fillmode": "overlay",
              "size": 10,
              "solidity": 0.2
             }
            },
            "type": "barpolar"
           }
          ],
          "carpet": [
           {
            "aaxis": {
             "endlinecolor": "#2a3f5f",
             "gridcolor": "white",
             "linecolor": "white",
             "minorgridcolor": "white",
             "startlinecolor": "#2a3f5f"
            },
            "baxis": {
             "endlinecolor": "#2a3f5f",
             "gridcolor": "white",
             "linecolor": "white",
             "minorgridcolor": "white",
             "startlinecolor": "#2a3f5f"
            },
            "type": "carpet"
           }
          ],
          "choropleth": [
           {
            "colorbar": {
             "outlinewidth": 0,
             "ticks": ""
            },
            "type": "choropleth"
           }
          ],
          "contour": [
           {
            "colorbar": {
             "outlinewidth": 0,
             "ticks": ""
            },
            "colorscale": [
             [
              0,
              "#0d0887"
             ],
             [
              0.1111111111111111,
              "#46039f"
             ],
             [
              0.2222222222222222,
              "#7201a8"
             ],
             [
              0.3333333333333333,
              "#9c179e"
             ],
             [
              0.4444444444444444,
              "#bd3786"
             ],
             [
              0.5555555555555556,
              "#d8576b"
             ],
             [
              0.6666666666666666,
              "#ed7953"
             ],
             [
              0.7777777777777778,
              "#fb9f3a"
             ],
             [
              0.8888888888888888,
              "#fdca26"
             ],
             [
              1,
              "#f0f921"
             ]
            ],
            "type": "contour"
           }
          ],
          "contourcarpet": [
           {
            "colorbar": {
             "outlinewidth": 0,
             "ticks": ""
            },
            "type": "contourcarpet"
           }
          ],
          "heatmap": [
           {
            "colorbar": {
             "outlinewidth": 0,
             "ticks": ""
            },
            "colorscale": [
             [
              0,
              "#0d0887"
             ],
             [
              0.1111111111111111,
              "#46039f"
             ],
             [
              0.2222222222222222,
              "#7201a8"
             ],
             [
              0.3333333333333333,
              "#9c179e"
             ],
             [
              0.4444444444444444,
              "#bd3786"
             ],
             [
              0.5555555555555556,
              "#d8576b"
             ],
             [
              0.6666666666666666,
              "#ed7953"
             ],
             [
              0.7777777777777778,
              "#fb9f3a"
             ],
             [
              0.8888888888888888,
              "#fdca26"
             ],
             [
              1,
              "#f0f921"
             ]
            ],
            "type": "heatmap"
           }
          ],
          "heatmapgl": [
           {
            "colorbar": {
             "outlinewidth": 0,
             "ticks": ""
            },
            "colorscale": [
             [
              0,
              "#0d0887"
             ],
             [
              0.1111111111111111,
              "#46039f"
             ],
             [
              0.2222222222222222,
              "#7201a8"
             ],
             [
              0.3333333333333333,
              "#9c179e"
             ],
             [
              0.4444444444444444,
              "#bd3786"
             ],
             [
              0.5555555555555556,
              "#d8576b"
             ],
             [
              0.6666666666666666,
              "#ed7953"
             ],
             [
              0.7777777777777778,
              "#fb9f3a"
             ],
             [
              0.8888888888888888,
              "#fdca26"
             ],
             [
              1,
              "#f0f921"
             ]
            ],
            "type": "heatmapgl"
           }
          ],
          "histogram": [
           {
            "marker": {
             "pattern": {
              "fillmode": "overlay",
              "size": 10,
              "solidity": 0.2
             }
            },
            "type": "histogram"
           }
          ],
          "histogram2d": [
           {
            "colorbar": {
             "outlinewidth": 0,
             "ticks": ""
            },
            "colorscale": [
             [
              0,
              "#0d0887"
             ],
             [
              0.1111111111111111,
              "#46039f"
             ],
             [
              0.2222222222222222,
              "#7201a8"
             ],
             [
              0.3333333333333333,
              "#9c179e"
             ],
             [
              0.4444444444444444,
              "#bd3786"
             ],
             [
              0.5555555555555556,
              "#d8576b"
             ],
             [
              0.6666666666666666,
              "#ed7953"
             ],
             [
              0.7777777777777778,
              "#fb9f3a"
             ],
             [
              0.8888888888888888,
              "#fdca26"
             ],
             [
              1,
              "#f0f921"
             ]
            ],
            "type": "histogram2d"
           }
          ],
          "histogram2dcontour": [
           {
            "colorbar": {
             "outlinewidth": 0,
             "ticks": ""
            },
            "colorscale": [
             [
              0,
              "#0d0887"
             ],
             [
              0.1111111111111111,
              "#46039f"
             ],
             [
              0.2222222222222222,
              "#7201a8"
             ],
             [
              0.3333333333333333,
              "#9c179e"
             ],
             [
              0.4444444444444444,
              "#bd3786"
             ],
             [
              0.5555555555555556,
              "#d8576b"
             ],
             [
              0.6666666666666666,
              "#ed7953"
             ],
             [
              0.7777777777777778,
              "#fb9f3a"
             ],
             [
              0.8888888888888888,
              "#fdca26"
             ],
             [
              1,
              "#f0f921"
             ]
            ],
            "type": "histogram2dcontour"
           }
          ],
          "mesh3d": [
           {
            "colorbar": {
             "outlinewidth": 0,
             "ticks": ""
            },
            "type": "mesh3d"
           }
          ],
          "parcoords": [
           {
            "line": {
             "colorbar": {
              "outlinewidth": 0,
              "ticks": ""
             }
            },
            "type": "parcoords"
           }
          ],
          "pie": [
           {
            "automargin": true,
            "type": "pie"
           }
          ],
          "scatter": [
           {
            "marker": {
             "colorbar": {
              "outlinewidth": 0,
              "ticks": ""
             }
            },
            "type": "scatter"
           }
          ],
          "scatter3d": [
           {
            "line": {
             "colorbar": {
              "outlinewidth": 0,
              "ticks": ""
             }
            },
            "marker": {
             "colorbar": {
              "outlinewidth": 0,
              "ticks": ""
             }
            },
            "type": "scatter3d"
           }
          ],
          "scattercarpet": [
           {
            "marker": {
             "colorbar": {
              "outlinewidth": 0,
              "ticks": ""
             }
            },
            "type": "scattercarpet"
           }
          ],
          "scattergeo": [
           {
            "marker": {
             "colorbar": {
              "outlinewidth": 0,
              "ticks": ""
             }
            },
            "type": "scattergeo"
           }
          ],
          "scattergl": [
           {
            "marker": {
             "colorbar": {
              "outlinewidth": 0,
              "ticks": ""
             }
            },
            "type": "scattergl"
           }
          ],
          "scattermapbox": [
           {
            "marker": {
             "colorbar": {
              "outlinewidth": 0,
              "ticks": ""
             }
            },
            "type": "scattermapbox"
           }
          ],
          "scatterpolar": [
           {
            "marker": {
             "colorbar": {
              "outlinewidth": 0,
              "ticks": ""
             }
            },
            "type": "scatterpolar"
           }
          ],
          "scatterpolargl": [
           {
            "marker": {
             "colorbar": {
              "outlinewidth": 0,
              "ticks": ""
             }
            },
            "type": "scatterpolargl"
           }
          ],
          "scatterternary": [
           {
            "marker": {
             "colorbar": {
              "outlinewidth": 0,
              "ticks": ""
             }
            },
            "type": "scatterternary"
           }
          ],
          "surface": [
           {
            "colorbar": {
             "outlinewidth": 0,
             "ticks": ""
            },
            "colorscale": [
             [
              0,
              "#0d0887"
             ],
             [
              0.1111111111111111,
              "#46039f"
             ],
             [
              0.2222222222222222,
              "#7201a8"
             ],
             [
              0.3333333333333333,
              "#9c179e"
             ],
             [
              0.4444444444444444,
              "#bd3786"
             ],
             [
              0.5555555555555556,
              "#d8576b"
             ],
             [
              0.6666666666666666,
              "#ed7953"
             ],
             [
              0.7777777777777778,
              "#fb9f3a"
             ],
             [
              0.8888888888888888,
              "#fdca26"
             ],
             [
              1,
              "#f0f921"
             ]
            ],
            "type": "surface"
           }
          ],
          "table": [
           {
            "cells": {
             "fill": {
              "color": "#EBF0F8"
             },
             "line": {
              "color": "white"
             }
            },
            "header": {
             "fill": {
              "color": "#C8D4E3"
             },
             "line": {
              "color": "white"
             }
            },
            "type": "table"
           }
          ]
         },
         "layout": {
          "annotationdefaults": {
           "arrowcolor": "#2a3f5f",
           "arrowhead": 0,
           "arrowwidth": 1
          },
          "autotypenumbers": "strict",
          "coloraxis": {
           "colorbar": {
            "outlinewidth": 0,
            "ticks": ""
           }
          },
          "colorscale": {
           "diverging": [
            [
             0,
             "#8e0152"
            ],
            [
             0.1,
             "#c51b7d"
            ],
            [
             0.2,
             "#de77ae"
            ],
            [
             0.3,
             "#f1b6da"
            ],
            [
             0.4,
             "#fde0ef"
            ],
            [
             0.5,
             "#f7f7f7"
            ],
            [
             0.6,
             "#e6f5d0"
            ],
            [
             0.7,
             "#b8e186"
            ],
            [
             0.8,
             "#7fbc41"
            ],
            [
             0.9,
             "#4d9221"
            ],
            [
             1,
             "#276419"
            ]
           ],
           "sequential": [
            [
             0,
             "#0d0887"
            ],
            [
             0.1111111111111111,
             "#46039f"
            ],
            [
             0.2222222222222222,
             "#7201a8"
            ],
            [
             0.3333333333333333,
             "#9c179e"
            ],
            [
             0.4444444444444444,
             "#bd3786"
            ],
            [
             0.5555555555555556,
             "#d8576b"
            ],
            [
             0.6666666666666666,
             "#ed7953"
            ],
            [
             0.7777777777777778,
             "#fb9f3a"
            ],
            [
             0.8888888888888888,
             "#fdca26"
            ],
            [
             1,
             "#f0f921"
            ]
           ],
           "sequentialminus": [
            [
             0,
             "#0d0887"
            ],
            [
             0.1111111111111111,
             "#46039f"
            ],
            [
             0.2222222222222222,
             "#7201a8"
            ],
            [
             0.3333333333333333,
             "#9c179e"
            ],
            [
             0.4444444444444444,
             "#bd3786"
            ],
            [
             0.5555555555555556,
             "#d8576b"
            ],
            [
             0.6666666666666666,
             "#ed7953"
            ],
            [
             0.7777777777777778,
             "#fb9f3a"
            ],
            [
             0.8888888888888888,
             "#fdca26"
            ],
            [
             1,
             "#f0f921"
            ]
           ]
          },
          "colorway": [
           "#636efa",
           "#EF553B",
           "#00cc96",
           "#ab63fa",
           "#FFA15A",
           "#19d3f3",
           "#FF6692",
           "#B6E880",
           "#FF97FF",
           "#FECB52"
          ],
          "font": {
           "color": "#2a3f5f"
          },
          "geo": {
           "bgcolor": "white",
           "lakecolor": "white",
           "landcolor": "#E5ECF6",
           "showlakes": true,
           "showland": true,
           "subunitcolor": "white"
          },
          "hoverlabel": {
           "align": "left"
          },
          "hovermode": "closest",
          "mapbox": {
           "style": "light"
          },
          "paper_bgcolor": "white",
          "plot_bgcolor": "#E5ECF6",
          "polar": {
           "angularaxis": {
            "gridcolor": "white",
            "linecolor": "white",
            "ticks": ""
           },
           "bgcolor": "#E5ECF6",
           "radialaxis": {
            "gridcolor": "white",
            "linecolor": "white",
            "ticks": ""
           }
          },
          "scene": {
           "xaxis": {
            "backgroundcolor": "#E5ECF6",
            "gridcolor": "white",
            "gridwidth": 2,
            "linecolor": "white",
            "showbackground": true,
            "ticks": "",
            "zerolinecolor": "white"
           },
           "yaxis": {
            "backgroundcolor": "#E5ECF6",
            "gridcolor": "white",
            "gridwidth": 2,
            "linecolor": "white",
            "showbackground": true,
            "ticks": "",
            "zerolinecolor": "white"
           },
           "zaxis": {
            "backgroundcolor": "#E5ECF6",
            "gridcolor": "white",
            "gridwidth": 2,
            "linecolor": "white",
            "showbackground": true,
            "ticks": "",
            "zerolinecolor": "white"
           }
          },
          "shapedefaults": {
           "line": {
            "color": "#2a3f5f"
           }
          },
          "ternary": {
           "aaxis": {
            "gridcolor": "white",
            "linecolor": "white",
            "ticks": ""
           },
           "baxis": {
            "gridcolor": "white",
            "linecolor": "white",
            "ticks": ""
           },
           "bgcolor": "#E5ECF6",
           "caxis": {
            "gridcolor": "white",
            "linecolor": "white",
            "ticks": ""
           }
          },
          "title": {
           "x": 0.05
          },
          "xaxis": {
           "automargin": true,
           "gridcolor": "white",
           "linecolor": "white",
           "ticks": "",
           "title": {
            "standoff": 15
           },
           "zerolinecolor": "white",
           "zerolinewidth": 2
          },
          "yaxis": {
           "automargin": true,
           "gridcolor": "white",
           "linecolor": "white",
           "ticks": "",
           "title": {
            "standoff": 15
           },
           "zerolinecolor": "white",
           "zerolinewidth": 2
          }
         }
        },
        "title": {
         "text": "<b>Bundesliga 2020-2021</b></br></br>",
         "x": 0
        },
        "width": 980,
        "xaxis": {
         "anchor": "y",
         "autorange": true,
         "domain": [
          0,
          0.2125
         ],
         "range": [
          0,
          1
         ],
         "tickmode": "array",
         "ticktext": [
          "Home",
          "Away"
         ],
         "tickvals": [
          0,
          1
         ],
         "type": "linear"
        },
        "xaxis2": {
         "anchor": "y2",
         "autorange": true,
         "domain": [
          0.2625,
          0.475
         ],
         "range": [
          0,
          1
         ],
         "tickmode": "array",
         "ticktext": [
          "Home",
          "Away"
         ],
         "tickvals": [
          0,
          1
         ],
         "type": "linear"
        },
        "xaxis3": {
         "anchor": "y3",
         "autorange": true,
         "domain": [
          0.525,
          0.7375
         ],
         "range": [
          0,
          1
         ],
         "tickmode": "array",
         "ticktext": [
          "Home",
          "Away"
         ],
         "tickvals": [
          0,
          1
         ],
         "type": "linear"
        },
        "xaxis4": {
         "anchor": "y4",
         "autorange": true,
         "domain": [
          0.7875,
          1
         ],
         "range": [
          0,
          1
         ],
         "tickmode": "array",
         "ticktext": [
          "Home",
          "Away"
         ],
         "tickvals": [
          0,
          1
         ],
         "type": "linear"
        },
        "yaxis": {
         "anchor": "x",
         "domain": [
          0,
          1
         ],
         "range": [
          0.001,
          3
         ],
         "type": "linear"
        },
        "yaxis2": {
         "anchor": "x2",
         "domain": [
          0,
          1
         ],
         "range": [
          0.001,
          3.764705882352941
         ],
         "type": "linear"
        },
        "yaxis3": {
         "anchor": "x3",
         "domain": [
          0,
          1
         ],
         "range": [
          0.001,
          3.764705882352941
         ],
         "type": "linear"
        },
        "yaxis4": {
         "anchor": "x4",
         "domain": [
          0,
          1
         ],
         "range": [
          -2.411764705882353,
          2.5294117647058822
         ],
         "type": "linear"
        }
       }
      },
      "image/png": "[encoded data removed]",
      "text/html": [
       "<div>                            <div id=\"23fad61e-3ac6-4efd-a64e-a9eaf851d5d1\" class=\"plotly-graph-div\" style=\"height:600px; width:980px;\"></div>            <script type=\"text/javascript\">                require([\"plotly\"], function(Plotly) {                    window.PLOTLYENV=window.PLOTLYENV || {};                                    if (document.getElementById(\"23fad61e-3ac6-4efd-a64e-a9eaf851d5d1\")) {                    Plotly.newPlot(                        \"23fad61e-3ac6-4efd-a64e-a9eaf851d5d1\",                        [{\"hovertemplate\":\"<b>Bayern Munich</b><br>%{x}: %{y}<extra></extra>\",\"line\":{\"color\":\"#E0E4E8\",\"width\":2},\"mode\":\"lines\",\"name\":\"Bayern Munich\",\"showlegend\":false,\"type\":\"scatter\",\"x\":[0,1],\"xaxis\":\"x\",\"y\":[2.5294117647058822,2.0588235294117645],\"yaxis\":\"y\"},{\"hovertemplate\":\"<b>RB Leipzig</b><br>%{x}: %{y}<extra></extra>\",\"line\":{\"color\":\"#E0E4E8\",\"width\":2},\"mode\":\"lines\",\"name\":\"RB Leipzig\",\"showlegend\":false,\"type\":\"scatter\",\"x\":[0,1],\"xaxis\":\"x\",\"y\":[2.176470588235294,1.6470588235294117],\"yaxis\":\"y\"},{\"hovertemplate\":\"<b>Borussia Do\\u2026</b><br>%{x}: %{y}<extra></extra>\",\"line\":{\"color\":\"#E0E4E8\",\"width\":2},\"mode\":\"lines\",\"name\":\"Borussia Do\\u2026\",\"showlegend\":false,\"type\":\"scatter\",\"x\":[0,1],\"xaxis\":\"x\",\"y\":[2.0588235294117645,1.7058823529411764],\"yaxis\":\"y\"},{\"hovertemplate\":\"<b>Wolfsburg</b><br>%{x}: %{y}<extra></extra>\",\"line\":{\"color\":\"#E0E4E8\",\"width\":2},\"mode\":\"lines\",\"name\":\"Wolfsburg\",\"showlegend\":false,\"type\":\"scatter\",\"x\":[0,1],\"xaxis\":\"x\",\"y\":[2.0,1.588235294117647],\"yaxis\":\"y\"},{\"hovertemplate\":\"<b>Eintracht F\\u2026</b><br>%{x}: %{y}<extra></extra>\",\"line\":{\"color\":\"#E0E4E8\",\"width\":2},\"mode\":\"lines\",\"name\":\"Eintracht F\\u2026\",\"showlegend\":false,\"type\":\"scatter\",\"x\":[0,1],\"xaxis\":\"x\",\"y\":[2.176470588235294,1.3529411764705883],\"yaxis\":\"y\"},{\"hovertemplate\":\"<b>Bayer Lever\\u2026</b><br>%{x}: %{y}<extra></extra>\",\"line\":{\"color\":\"#E0E4E8\",\"width\":2},\"mode\":\"lines\",\"name\":\"Bayer Lever\\u2026\",\"showlegend\":false,\"type\":\"scatter\",\"x\":[0,1],\"xaxis\":\"x\",\"y\":[1.7058823529411764,1.3529411764705883],\"yaxis\":\"y\"},{\"hovertemplate\":\"<b>1. FC Union</b><br>%{x}: %{y}<extra></extra>\",\"line\":{\"color\":\"#E67451\",\"width\":4},\"mode\":\"lines\",\"name\":\"1. FC Union\",\"showlegend\":true,\"type\":\"scatter\",\"x\":[0,1],\"xaxis\":\"x\",\"y\":[1.8823529411764706,1.0588235294117647],\"yaxis\":\"y\"},{\"hovertemplate\":\"<b>Borussia M'\\u2026</b><br>%{x}: %{y}<extra></extra>\",\"line\":{\"color\":\"#E0E4E8\",\"width\":2},\"mode\":\"lines\",\"name\":\"Borussia M'\\u2026\",\"showlegend\":false,\"type\":\"scatter\",\"x\":[0,1],\"xaxis\":\"x\",\"y\":[1.6470588235294117,1.2352941176470589],\"yaxis\":\"y\"},{\"hovertemplate\":\"<b>Stuttgart</b><br>%{x}: %{y}<extra></extra>\",\"line\":{\"color\":\"#E0E4E8\",\"width\":2},\"mode\":\"lines\",\"name\":\"Stuttgart\",\"showlegend\":false,\"type\":\"scatter\",\"x\":[0,1],\"xaxis\":\"x\",\"y\":[1.2352941176470589,1.411764705882353],\"yaxis\":\"y\"},{\"hovertemplate\":\"<b>Freiburg</b><br>%{x}: %{y}<extra></extra>\",\"line\":{\"color\":\"#E0E4E8\",\"width\":2},\"mode\":\"lines\",\"name\":\"Freiburg\",\"showlegend\":false,\"type\":\"scatter\",\"x\":[0,1],\"xaxis\":\"x\",\"y\":[1.588235294117647,1.0588235294117647],\"yaxis\":\"y\"},{\"hovertemplate\":\"<b>Hoffenheim</b><br>%{x}: %{y}<extra></extra>\",\"line\":{\"color\":\"#E0E4E8\",\"width\":2},\"mode\":\"lines\",\"name\":\"Hoffenheim\",\"showlegend\":false,\"type\":\"scatter\",\"x\":[0,1],\"xaxis\":\"x\",\"y\":[1.588235294117647,0.9411764705882353],\"yaxis\":\"y\"},{\"hovertemplate\":\"<b>Mainz</b><br>%{x}: %{y}<extra></extra>\",\"line\":{\"color\":\"#E0E4E8\",\"width\":2},\"mode\":\"lines\",\"name\":\"Mainz\",\"showlegend\":false,\"type\":\"scatter\",\"x\":[0,1],\"xaxis\":\"x\",\"y\":[0.9411764705882353,1.3529411764705883],\"yaxis\":\"y\"},{\"hovertemplate\":\"<b>Augsburg</b><br>%{x}: %{y}<extra></extra>\",\"line\":{\"color\":\"#E0E4E8\",\"width\":2},\"mode\":\"lines\",\"name\":\"Augsburg\",\"showlegend\":false,\"type\":\"scatter\",\"x\":[0,1],\"xaxis\":\"x\",\"y\":[1.2941176470588236,0.8235294117647058],\"yaxis\":\"y\"},{\"hovertemplate\":\"<b>Hertha BSC</b><br>%{x}: %{y}<extra></extra>\",\"line\":{\"color\":\"#4682B4\",\"width\":4},\"mode\":\"lines\",\"name\":\"Hertha BSC\",\"showlegend\":true,\"type\":\"scatter\",\"x\":[0,1],\"xaxis\":\"x\",\"y\":[1.1764705882352942,0.8823529411764706],\"yaxis\":\"y\"},{\"hovertemplate\":\"<b>Arminia Bie\\u2026</b><br>%{x}: %{y}<extra></extra>\",\"line\":{\"color\":\"#E0E4E8\",\"width\":2},\"mode\":\"lines\",\"name\":\"Arminia Bie\\u2026\",\"showlegend\":false,\"type\":\"scatter\",\"x\":[0,1],\"xaxis\":\"x\",\"y\":[1.1764705882352942,0.8823529411764706],\"yaxis\":\"y\"},{\"hovertemplate\":\"<b>FC Cologne</b><br>%{x}: %{y}<extra></extra>\",\"line\":{\"color\":\"#E0E4E8\",\"width\":2},\"mode\":\"lines\",\"name\":\"FC Cologne\",\"showlegend\":false,\"type\":\"scatter\",\"x\":[0,1],\"xaxis\":\"x\",\"y\":[0.8235294117647058,1.1176470588235294],\"yaxis\":\"y\"},{\"hovertemplate\":\"<b>Werder Bremen</b><br>%{x}: %{y}<extra></extra>\",\"line\":{\"color\":\"#E0E4E8\",\"width\":2},\"mode\":\"lines\",\"name\":\"Werder Bremen\",\"showlegend\":false,\"type\":\"scatter\",\"x\":[0,1],\"xaxis\":\"x\",\"y\":[0.8235294117647058,1.0],\"yaxis\":\"y\"},{\"hovertemplate\":\"<b>Schalke 04</b><br>%{x}: %{y}<extra></extra>\",\"line\":{\"color\":\"#E0E4E8\",\"width\":2},\"mode\":\"lines\",\"name\":\"Schalke 04\",\"showlegend\":false,\"type\":\"scatter\",\"x\":[0,1],\"xaxis\":\"x\",\"y\":[0.7058823529411765,0.23529411764705882],\"yaxis\":\"y\"},{\"hovertemplate\":\"<b>1. FC Union</b><br>%{x}: %{y}<extra></extra>\",\"line\":{\"color\":\"#E67451\",\"width\":4},\"mode\":\"lines\",\"name\":\"1. FC Union\",\"showlegend\":false,\"type\":\"scatter\",\"x\":[0,1],\"xaxis\":\"x\",\"y\":[1.8823529411764706,1.0588235294117647],\"yaxis\":\"y\"},{\"hovertemplate\":\"<b>Hertha BSC</b><br>%{x}: %{y}<extra></extra>\",\"line\":{\"color\":\"#4682B4\",\"width\":4},\"mode\":\"lines\",\"name\":\"Hertha BSC\",\"showlegend\":false,\"type\":\"scatter\",\"x\":[0,1],\"xaxis\":\"x\",\"y\":[1.1764705882352942,0.8823529411764706],\"yaxis\":\"y\"},{\"hovertemplate\":\"<b>Bayern Munich</b><br>%{x}: %{y}<extra></extra>\",\"line\":{\"color\":\"#E0E4E8\",\"width\":2},\"mode\":\"lines\",\"name\":\"Bayern Munich\",\"showlegend\":false,\"type\":\"scatter\",\"x\":[0,1],\"xaxis\":\"x2\",\"y\":[3.764705882352941,2.0588235294117645],\"yaxis\":\"y2\"},{\"hovertemplate\":\"<b>RB Leipzig</b><br>%{x}: %{y}<extra></extra>\",\"line\":{\"color\":\"#E0E4E8\",\"width\":2},\"mode\":\"lines\",\"name\":\"RB Leipzig\",\"showlegend\":false,\"type\":\"scatter\",\"x\":[0,1],\"xaxis\":\"x2\",\"y\":[1.7058823529411764,1.8235294117647058],\"yaxis\":\"y2\"},{\"hovertemplate\":\"<b>Borussia Do\\u2026</b><br>%{x}: %{y}<extra></extra>\",\"line\":{\"color\":\"#E0E4E8\",\"width\":2},\"mode\":\"lines\",\"name\":\"Borussia Do\\u2026\",\"showlegend\":false,\"type\":\"scatter\",\"x\":[0,1],\"xaxis\":\"x2\",\"y\":[2.3529411764705883,2.0588235294117645],\"yaxis\":\"y2\"},{\"hovertemplate\":\"<b>Wolfsburg</b><br>%{x}: %{y}<extra></extra>\",\"line\":{\"color\":\"#E0E4E8\",\"width\":2},\"mode\":\"lines\",\"name\":\"Wolfsburg\",\"showlegend\":false,\"type\":\"scatter\",\"x\":[0,1],\"xaxis\":\"x2\",\"y\":[1.8823529411764706,1.7058823529411764],\"yaxis\":\"y2\"},{\"hovertemplate\":\"<b>Eintracht F\\u2026</b><br>%{x}: %{y}<extra></extra>\",\"line\":{\"color\":\"#E0E4E8\",\"width\":2},\"mode\":\"lines\",\"name\":\"Eintracht F\\u2026\",\"showlegend\":false,\"type\":\"scatter\",\"x\":[0,1],\"xaxis\":\"x2\",\"y\":[2.176470588235294,1.8823529411764706],\"yaxis\":\"y2\"},{\"hovertemplate\":\"<b>Bayer Lever\\u2026</b><br>%{x}: %{y}<extra></extra>\",\"line\":{\"color\":\"#E0E4E8\",\"width\":2},\"mode\":\"lines\",\"name\":\"Bayer Lever\\u2026\",\"showlegend\":false,\"type\":\"scatter\",\"x\":[0,1],\"xaxis\":\"x2\",\"y\":[2.0,1.1176470588235294],\"yaxis\":\"y2\"},{\"hovertemplate\":\"<b>1. FC Union</b><br>%{x}: %{y}<extra></extra>\",\"line\":{\"color\":\"#E67451\",\"width\":4},\"mode\":\"lines\",\"name\":\"1. FC Union\",\"showlegend\":false,\"type\":\"scatter\",\"x\":[0,1],\"xaxis\":\"x2\",\"y\":[1.8823529411764706,1.0588235294117647],\"yaxis\":\"y2\"},{\"hovertemplate\":\"<b>Borussia M'\\u2026</b><br>%{x}: %{y}<extra></extra>\",\"line\":{\"color\":\"#E0E4E8\",\"width\":2},\"mode\":\"lines\",\"name\":\"Borussia M'\\u2026\",\"showlegend\":false,\"type\":\"scatter\",\"x\":[0,1],\"xaxis\":\"x2\",\"y\":[1.8823529411764706,1.8823529411764706],\"yaxis\":\"y2\"},{\"hovertemplate\":\"<b>Stuttgart</b><br>%{x}: %{y}<extra></extra>\",\"line\":{\"color\":\"#E0E4E8\",\"width\":2},\"mode\":\"lines\",\"name\":\"Stuttgart\",\"showlegend\":false,\"type\":\"scatter\",\"x\":[0,1],\"xaxis\":\"x2\",\"y\":[1.588235294117647,1.7058823529411764],\"yaxis\":\"y2\"},{\"hovertemplate\":\"<b>Freiburg</b><br>%{x}: %{y}<extra></extra>\",\"line\":{\"color\":\"#E0E4E8\",\"width\":2},\"mode\":\"lines\",\"name\":\"Freiburg\",\"showlegend\":false,\"type\":\"scatter\",\"x\":[0,1],\"xaxis\":\"x2\",\"y\":[1.9411764705882353,1.1176470588235294],\"yaxis\":\"y2\"},{\"hovertemplate\":\"<b>Hoffenheim</b><br>%{x}: %{y}<extra></extra>\",\"line\":{\"color\":\"#E0E4E8\",\"width\":2},\"mode\":\"lines\",\"name\":\"Hoffenheim\",\"showlegend\":false,\"type\":\"scatter\",\"x\":[0,1],\"xaxis\":\"x2\",\"y\":[1.8823529411764706,1.1764705882352942],\"yaxis\":\"y2\"},{\"hovertemplate\":\"<b>Mainz</b><br>%{x}: %{y}<extra></extra>\",\"line\":{\"color\":\"#E0E4E8\",\"width\":2},\"mode\":\"lines\",\"name\":\"Mainz\",\"showlegend\":false,\"type\":\"scatter\",\"x\":[0,1],\"xaxis\":\"x2\",\"y\":[0.9411764705882353,1.3529411764705883],\"yaxis\":\"y2\"},{\"hovertemplate\":\"<b>Augsburg</b><br>%{x}: %{y}<extra></extra>\",\"line\":{\"color\":\"#E0E4E8\",\"width\":2},\"mode\":\"lines\",\"name\":\"Augsburg\",\"showlegend\":false,\"type\":\"scatter\",\"x\":[0,1],\"xaxis\":\"x2\",\"y\":[1.2352941176470589,0.8823529411764706],\"yaxis\":\"y2\"},{\"hovertemplate\":\"<b>Hertha BSC</b><br>%{x}: %{y}<extra></extra>\",\"line\":{\"color\":\"#4682B4\",\"width\":4},\"mode\":\"lines\",\"name\":\"Hertha BSC\",\"showlegend\":false,\"type\":\"scatter\",\"x\":[0,1],\"xaxis\":\"x2\",\"y\":[1.2352941176470589,1.1764705882352942],\"yaxis\":\"y2\"},{\"hovertemplate\":\"<b>Arminia Bie\\u2026</b><br>%{x}: %{y}<extra></extra>\",\"line\":{\"color\":\"#E0E4E8\",\"width\":2},\"mode\":\"lines\",\"name\":\"Arminia Bie\\u2026\",\"showlegend\":false,\"type\":\"scatter\",\"x\":[0,1],\"xaxis\":\"x2\",\"y\":[0.7647058823529411,0.7647058823529411],\"yaxis\":\"y2\"},{\"hovertemplate\":\"<b>FC Cologne</b><br>%{x}: %{y}<extra></extra>\",\"line\":{\"color\":\"#E0E4E8\",\"width\":2},\"mode\":\"lines\",\"name\":\"FC Cologne\",\"showlegend\":false,\"type\":\"scatter\",\"x\":[0,1],\"xaxis\":\"x2\",\"y\":[1.1764705882352942,0.8235294117647058],\"yaxis\":\"y2\"},{\"hovertemplate\":\"<b>Werder Bremen</b><br>%{x}: %{y}<extra></extra>\",\"line\":{\"color\":\"#E0E4E8\",\"width\":2},\"mode\":\"lines\",\"name\":\"Werder Bremen\",\"showlegend\":false,\"type\":\"scatter\",\"x\":[0,1],\"xaxis\":\"x2\",\"y\":[0.9411764705882353,1.1764705882352942],\"yaxis\":\"y2\"},{\"hovertemplate\":\"<b>Schalke 04</b><br>%{x}: %{y}<extra></extra>\",\"line\":{\"color\":\"#E0E4E8\",\"width\":2},\"mode\":\"lines\",\"name\":\"Schalke 04\",\"showlegend\":false,\"type\":\"scatter\",\"x\":[0,1],\"xaxis\":\"x2\",\"y\":[0.8235294117647058,0.6470588235294118],\"yaxis\":\"y2\"},{\"hovertemplate\":\"<b>1. FC Union</b><br>%{x}: %{y}<extra></extra>\",\"line\":{\"color\":\"#E67451\",\"width\":4},\"mode\":\"lines\",\"name\":\"1. FC Union\",\"showlegend\":false,\"type\":\"scatter\",\"x\":[0,1],\"xaxis\":\"x2\",\"y\":[1.8823529411764706,1.0588235294117647],\"yaxis\":\"y2\"},{\"hovertemplate\":\"<b>Hertha BSC</b><br>%{x}: %{y}<extra></extra>\",\"line\":{\"color\":\"#4682B4\",\"width\":4},\"mode\":\"lines\",\"name\":\"Hertha BSC\",\"showlegend\":false,\"type\":\"scatter\",\"x\":[0,1],\"xaxis\":\"x2\",\"y\":[1.2352941176470589,1.1764705882352942],\"yaxis\":\"y2\"},{\"hovertemplate\":\"<b>Bayern Munich</b><br>%{x}: %{y}<extra></extra>\",\"line\":{\"color\":\"#E0E4E8\",\"width\":2},\"mode\":\"lines\",\"name\":\"Bayern Munich\",\"showlegend\":false,\"type\":\"scatter\",\"x\":[0,1],\"xaxis\":\"x3\",\"y\":[1.2352941176470589,1.3529411764705883],\"yaxis\":\"y3\"},{\"hovertemplate\":\"<b>RB Leipzig</b><br>%{x}: %{y}<extra></extra>\",\"line\":{\"color\":\"#E0E4E8\",\"width\":2},\"mode\":\"lines\",\"name\":\"RB Leipzig\",\"showlegend\":false,\"type\":\"scatter\",\"x\":[0,1],\"xaxis\":\"x3\",\"y\":[0.7647058823529411,1.1176470588235294],\"yaxis\":\"y3\"},{\"hovertemplate\":\"<b>Borussia Do\\u2026</b><br>%{x}: %{y}<extra></extra>\",\"line\":{\"color\":\"#E0E4E8\",\"width\":2},\"mode\":\"lines\",\"name\":\"Borussia Do\\u2026\",\"showlegend\":false,\"type\":\"scatter\",\"x\":[0,1],\"xaxis\":\"x3\",\"y\":[1.1764705882352942,1.5294117647058822],\"yaxis\":\"y3\"},{\"hovertemplate\":\"<b>Wolfsburg</b><br>%{x}: %{y}<extra></extra>\",\"line\":{\"color\":\"#E0E4E8\",\"width\":2},\"mode\":\"lines\",\"name\":\"Wolfsburg\",\"showlegend\":false,\"type\":\"scatter\",\"x\":[0,1],\"xaxis\":\"x3\",\"y\":[0.9411764705882353,1.2352941176470589],\"yaxis\":\"y3\"},{\"hovertemplate\":\"<b>Eintracht F\\u2026</b><br>%{x}: %{y}<extra></extra>\",\"line\":{\"color\":\"#E0E4E8\",\"width\":2},\"mode\":\"lines\",\"name\":\"Eintracht F\\u2026\",\"showlegend\":false,\"type\":\"scatter\",\"x\":[0,1],\"xaxis\":\"x3\",\"y\":[1.1764705882352942,1.9411764705882353],\"yaxis\":\"y3\"},{\"hovertemplate\":\"<b>Bayer Lever\\u2026</b><br>%{x}: %{y}<extra></extra>\",\"line\":{\"color\":\"#E0E4E8\",\"width\":2},\"mode\":\"lines\",\"name\":\"Bayer Lever\\u2026\",\"showlegend\":false,\"type\":\"scatter\",\"x\":[0,1],\"xaxis\":\"x3\",\"y\":[1.2941176470588236,1.0],\"yaxis\":\"y3\"},{\"hovertemplate\":\"<b>1. FC Union</b><br>%{x}: %{y}<extra></extra>\",\"line\":{\"color\":\"#E67451\",\"width\":4},\"mode\":\"lines\",\"name\":\"1. FC Union\",\"showlegend\":false,\"type\":\"scatter\",\"x\":[0,1],\"xaxis\":\"x3\",\"y\":[1.0588235294117647,1.4705882352941178],\"yaxis\":\"y3\"},{\"hovertemplate\":\"<b>Borussia M'\\u2026</b><br>%{x}: %{y}<extra></extra>\",\"line\":{\"color\":\"#E0E4E8\",\"width\":2},\"mode\":\"lines\",\"name\":\"Borussia M'\\u2026\",\"showlegend\":false,\"type\":\"scatter\",\"x\":[0,1],\"xaxis\":\"x3\",\"y\":[1.1176470588235294,2.176470588235294],\"yaxis\":\"y3\"},{\"hovertemplate\":\"<b>Stuttgart</b><br>%{x}: %{y}<extra></extra>\",\"line\":{\"color\":\"#E0E4E8\",\"width\":2},\"mode\":\"lines\",\"name\":\"Stuttgart\",\"showlegend\":false,\"type\":\"scatter\",\"x\":[0,1],\"xaxis\":\"x3\",\"y\":[1.5294117647058822,1.7058823529411764],\"yaxis\":\"y3\"},{\"hovertemplate\":\"<b>Freiburg</b><br>%{x}: %{y}<extra></extra>\",\"line\":{\"color\":\"#E0E4E8\",\"width\":2},\"mode\":\"lines\",\"name\":\"Freiburg\",\"showlegend\":false,\"type\":\"scatter\",\"x\":[0,1],\"xaxis\":\"x3\",\"y\":[1.3529411764705883,1.7058823529411764],\"yaxis\":\"y3\"},{\"hovertemplate\":\"<b>Hoffenheim</b><br>%{x}: %{y}<extra></extra>\",\"line\":{\"color\":\"#E0E4E8\",\"width\":2},\"mode\":\"lines\",\"name\":\"Hoffenheim\",\"showlegend\":false,\"type\":\"scatter\",\"x\":[0,1],\"xaxis\":\"x3\",\"y\":[1.411764705882353,1.7647058823529411],\"yaxis\":\"y3\"},{\"hovertemplate\":\"<b>Mainz</b><br>%{x}: %{y}<extra></extra>\",\"line\":{\"color\":\"#E0E4E8\",\"width\":2},\"mode\":\"lines\",\"name\":\"Mainz\",\"showlegend\":false,\"type\":\"scatter\",\"x\":[0,1],\"xaxis\":\"x3\",\"y\":[1.5294117647058822,1.7647058823529411],\"yaxis\":\"y3\"},{\"hovertemplate\":\"<b>Augsburg</b><br>%{x}: %{y}<extra></extra>\",\"line\":{\"color\":\"#E0E4E8\",\"width\":2},\"mode\":\"lines\",\"name\":\"Augsburg\",\"showlegend\":false,\"type\":\"scatter\",\"x\":[0,1],\"xaxis\":\"x3\",\"y\":[1.4705882352941178,1.7058823529411764],\"yaxis\":\"y3\"},{\"hovertemplate\":\"<b>Hertha BSC</b><br>%{x}: %{y}<extra></extra>\",\"line\":{\"color\":\"#4682B4\",\"width\":4},\"mode\":\"lines\",\"name\":\"Hertha BSC\",\"showlegend\":false,\"type\":\"scatter\",\"x\":[0,1],\"xaxis\":\"x3\",\"y\":[1.5294117647058822,1.5294117647058822],\"yaxis\":\"y3\"},{\"hovertemplate\":\"<b>Arminia Bie\\u2026</b><br>%{x}: %{y}<extra></extra>\",\"line\":{\"color\":\"#E0E4E8\",\"width\":2},\"mode\":\"lines\",\"name\":\"Arminia Bie\\u2026\",\"showlegend\":false,\"type\":\"scatter\",\"x\":[0,1],\"xaxis\":\"x3\",\"y\":[1.3529411764705883,1.7058823529411764],\"yaxis\":\"y3\"},{\"hovertemplate\":\"<b>FC Cologne</b><br>%{x}: %{y}<extra></extra>\",\"line\":{\"color\":\"#E0E4E8\",\"width\":2},\"mode\":\"lines\",\"name\":\"FC Cologne\",\"showlegend\":false,\"type\":\"scatter\",\"x\":[0,1],\"xaxis\":\"x3\",\"y\":[1.8235294117647058,1.7058823529411764],\"yaxis\":\"y3\"},{\"hovertemplate\":\"<b>Werder Bremen</b><br>%{x}: %{y}<extra></extra>\",\"line\":{\"color\":\"#E0E4E8\",\"width\":2},\"mode\":\"lines\",\"name\":\"Werder Bremen\",\"showlegend\":false,\"type\":\"scatter\",\"x\":[0,1],\"xaxis\":\"x3\",\"y\":[1.6470588235294117,1.7058823529411764],\"yaxis\":\"y3\"},{\"hovertemplate\":\"<b>Schalke 04</b><br>%{x}: %{y}<extra></extra>\",\"line\":{\"color\":\"#E0E4E8\",\"width\":2},\"mode\":\"lines\",\"name\":\"Schalke 04\",\"showlegend\":false,\"type\":\"scatter\",\"x\":[0,1],\"xaxis\":\"x3\",\"y\":[2.0,3.0588235294117645],\"yaxis\":\"y3\"},{\"hovertemplate\":\"<b>1. FC Union</b><br>%{x}: %{y}<extra></extra>\",\"line\":{\"color\":\"#E67451\",\"width\":4},\"mode\":\"lines\",\"name\":\"1. FC Union\",\"showlegend\":false,\"type\":\"scatter\",\"x\":[0,1],\"xaxis\":\"x3\",\"y\":[1.0588235294117647,1.4705882352941178],\"yaxis\":\"y3\"},{\"hovertemplate\":\"<b>Hertha BSC</b><br>%{x}: %{y}<extra></extra>\",\"line\":{\"color\":\"#4682B4\",\"width\":4},\"mode\":\"lines\",\"name\":\"Hertha BSC\",\"showlegend\":false,\"type\":\"scatter\",\"x\":[0,1],\"xaxis\":\"x3\",\"y\":[1.5294117647058822,1.5294117647058822],\"yaxis\":\"y3\"},{\"hovertemplate\":\"<b>Bayern Munich</b><br>%{x}: %{y}<extra></extra>\",\"line\":{\"color\":\"#E0E4E8\",\"width\":2},\"mode\":\"lines\",\"name\":\"Bayern Munich\",\"showlegend\":false,\"type\":\"scatter\",\"x\":[0,1],\"xaxis\":\"x4\",\"y\":[2.5294117647058822,0.7058823529411765],\"yaxis\":\"y4\"},{\"hovertemplate\":\"<b>RB Leipzig</b><br>%{x}: %{y}<extra></extra>\",\"line\":{\"color\":\"#E0E4E8\",\"width\":2},\"mode\":\"lines\",\"name\":\"RB Leipzig\",\"showlegend\":false,\"type\":\"scatter\",\"x\":[0,1],\"xaxis\":\"x4\",\"y\":[0.9411764705882353,0.7058823529411765],\"yaxis\":\"y4\"},{\"hovertemplate\":\"<b>Borussia Do\\u2026</b><br>%{x}: %{y}<extra></extra>\",\"line\":{\"color\":\"#E0E4E8\",\"width\":2},\"mode\":\"lines\",\"name\":\"Borussia Do\\u2026\",\"showlegend\":false,\"type\":\"scatter\",\"x\":[0,1],\"xaxis\":\"x4\",\"y\":[1.1764705882352942,0.5294117647058824],\"yaxis\":\"y4\"},{\"hovertemplate\":\"<b>Wolfsburg</b><br>%{x}: %{y}<extra></extra>\",\"line\":{\"color\":\"#E0E4E8\",\"width\":2},\"mode\":\"lines\",\"name\":\"Wolfsburg\",\"showlegend\":false,\"type\":\"scatter\",\"x\":[0,1],\"xaxis\":\"x4\",\"y\":[0.9411764705882353,0.47058823529411764],\"yaxis\":\"y4\"},{\"hovertemplate\":\"<b>Eintracht F\\u2026</b><br>%{x}: %{y}<extra></extra>\",\"line\":{\"color\":\"#E0E4E8\",\"width\":2},\"mode\":\"lines\",\"name\":\"Eintracht F\\u2026\",\"showlegend\":false,\"type\":\"scatter\",\"x\":[0,1],\"xaxis\":\"x4\",\"y\":[1.0,-0.058823529411764705],\"yaxis\":\"y4\"},{\"hovertemplate\":\"<b>Bayer Lever\\u2026</b><br>%{x}: %{y}<extra></extra>\",\"line\":{\"color\":\"#E0E4E8\",\"width\":2},\"mode\":\"lines\",\"name\":\"Bayer Lever\\u2026\",\"showlegend\":false,\"type\":\"scatter\",\"x\":[0,1],\"xaxis\":\"x4\",\"y\":[0.7058823529411765,0.11764705882352941],\"yaxis\":\"y4\"},{\"hovertemplate\":\"<b>1. FC Union</b><br>%{x}: %{y}<extra></extra>\",\"line\":{\"color\":\"#E67451\",\"width\":4},\"mode\":\"lines\",\"name\":\"1. FC Union\",\"showlegend\":false,\"type\":\"scatter\",\"x\":[0,1],\"xaxis\":\"x4\",\"y\":[0.8235294117647058,-0.4117647058823529],\"yaxis\":\"y4\"},{\"hovertemplate\":\"<b>Borussia M'\\u2026</b><br>%{x}: %{y}<extra></extra>\",\"line\":{\"color\":\"#E0E4E8\",\"width\":2},\"mode\":\"lines\",\"name\":\"Borussia M'\\u2026\",\"showlegend\":false,\"type\":\"scatter\",\"x\":[0,1],\"xaxis\":\"x4\",\"y\":[0.7647058823529411,-0.29411764705882354],\"yaxis\":\"y4\"},{\"hovertemplate\":\"<b>Stuttgart</b><br>%{x}: %{y}<extra></extra>\",\"line\":{\"color\":\"#E0E4E8\",\"width\":2},\"mode\":\"lines\",\"name\":\"Stuttgart\",\"showlegend\":false,\"type\":\"scatter\",\"x\":[0,1],\"xaxis\":\"x4\",\"y\":[0.058823529411764705,0.0],\"yaxis\":\"y4\"},{\"hovertemplate\":\"<b>Freiburg</b><br>%{x}: %{y}<extra></extra>\",\"line\":{\"color\":\"#E0E4E8\",\"width\":2},\"mode\":\"lines\",\"name\":\"Freiburg\",\"showlegend\":false,\"type\":\"scatter\",\"x\":[0,1],\"xaxis\":\"x4\",\"y\":[0.5882352941176471,-0.5882352941176471],\"yaxis\":\"y4\"},{\"hovertemplate\":\"<b>Hoffenheim</b><br>%{x}: %{y}<extra></extra>\",\"line\":{\"color\":\"#E0E4E8\",\"width\":2},\"mode\":\"lines\",\"name\":\"Hoffenheim\",\"showlegend\":false,\"type\":\"scatter\",\"x\":[0,1],\"xaxis\":\"x4\",\"y\":[0.47058823529411764,-0.5882352941176471],\"yaxis\":\"y4\"},{\"hovertemplate\":\"<b>Mainz</b><br>%{x}: %{y}<extra></extra>\",\"line\":{\"color\":\"#E0E4E8\",\"width\":2},\"mode\":\"lines\",\"name\":\"Mainz\",\"showlegend\":false,\"type\":\"scatter\",\"x\":[0,1],\"xaxis\":\"x4\",\"y\":[-0.5882352941176471,-0.4117647058823529],\"yaxis\":\"y4\"},{\"hovertemplate\":\"<b>Augsburg</b><br>%{x}: %{y}<extra></extra>\",\"line\":{\"color\":\"#E0E4E8\",\"width\":2},\"mode\":\"lines\",\"name\":\"Augsburg\",\"showlegend\":false,\"type\":\"scatter\",\"x\":[0,1],\"xaxis\":\"x4\",\"y\":[-0.23529411764705882,-0.8235294117647058],\"yaxis\":\"y4\"},{\"hovertemplate\":\"<b>Hertha BSC</b><br>%{x}: %{y}<extra></extra>\",\"line\":{\"color\":\"#4682B4\",\"width\":4},\"mode\":\"lines\",\"name\":\"Hertha BSC\",\"showlegend\":false,\"type\":\"scatter\",\"x\":[0,1],\"xaxis\":\"x4\",\"y\":[-0.29411764705882354,-0.35294117647058826],\"yaxis\":\"y4\"},{\"hovertemplate\":\"<b>Arminia Bie\\u2026</b><br>%{x}: %{y}<extra></extra>\",\"line\":{\"color\":\"#E0E4E8\",\"width\":2},\"mode\":\"lines\",\"name\":\"Arminia Bie\\u2026\",\"showlegend\":false,\"type\":\"scatter\",\"x\":[0,1],\"xaxis\":\"x4\",\"y\":[-0.5882352941176471,-0.9411764705882353],\"yaxis\":\"y4\"},{\"hovertemplate\":\"<b>FC Cologne</b><br>%{x}: %{y}<extra></extra>\",\"line\":{\"color\":\"#E0E4E8\",\"width\":2},\"mode\":\"lines\",\"name\":\"FC Cologne\",\"showlegend\":false,\"type\":\"scatter\",\"x\":[0,1],\"xaxis\":\"x4\",\"y\":[-0.6470588235294118,-0.8823529411764706],\"yaxis\":\"y4\"},{\"hovertemplate\":\"<b>Werder Bremen</b><br>%{x}: %{y}<extra></extra>\",\"line\":{\"color\":\"#E0E4E8\",\"width\":2},\"mode\":\"lines\",\"name\":\"Werder Bremen\",\"showlegend\":false,\"type\":\"scatter\",\"x\":[0,1],\"xaxis\":\"x4\",\"y\":[-0.7058823529411765,-0.5294117647058824],\"yaxis\":\"y4\"},{\"hovertemplate\":\"<b>Schalke 04</b><br>%{x}: %{y}<extra></extra>\",\"line\":{\"color\":\"#E0E4E8\",\"width\":2},\"mode\":\"lines\",\"name\":\"Schalke 04\",\"showlegend\":false,\"type\":\"scatter\",\"x\":[0,1],\"xaxis\":\"x4\",\"y\":[-1.1764705882352942,-2.411764705882353],\"yaxis\":\"y4\"},{\"hovertemplate\":\"<b>1. FC Union</b><br>%{x}: %{y}<extra></extra>\",\"line\":{\"color\":\"#E67451\",\"width\":4},\"mode\":\"lines\",\"name\":\"1. FC Union\",\"showlegend\":false,\"type\":\"scatter\",\"x\":[0,1],\"xaxis\":\"x4\",\"y\":[0.8235294117647058,-0.4117647058823529],\"yaxis\":\"y4\"},{\"hovertemplate\":\"<b>Hertha BSC</b><br>%{x}: %{y}<extra></extra>\",\"line\":{\"color\":\"#4682B4\",\"width\":4},\"mode\":\"lines\",\"name\":\"Hertha BSC\",\"showlegend\":false,\"type\":\"scatter\",\"x\":[0,1],\"xaxis\":\"x4\",\"y\":[-0.29411764705882354,-0.35294117647058826],\"yaxis\":\"y4\"}],                        {\"annotations\":[{\"font\":{\"size\":12},\"showarrow\":false,\"text\":\"<b>Points per game</b>\",\"x\":0.0,\"xanchor\":\"left\",\"xref\":\"paper\",\"y\":1.05,\"yanchor\":\"bottom\",\"yref\":\"paper\"},{\"font\":{\"size\":12},\"showarrow\":false,\"text\":\"<b>Goals for per game</b>\",\"x\":0.2631578947368421,\"xanchor\":\"left\",\"xref\":\"paper\",\"y\":1.05,\"yanchor\":\"bottom\",\"yref\":\"paper\"},{\"font\":{\"size\":12},\"showarrow\":false,\"text\":\"<b>Goals against per game</b>\",\"x\":0.5263157894736842,\"xanchor\":\"left\",\"xref\":\"paper\",\"y\":1.05,\"yanchor\":\"bottom\",\"yref\":\"paper\"},{\"font\":{\"size\":12},\"showarrow\":false,\"text\":\"<b>Goal difference per game</b>\",\"x\":0.7894736842105263,\"xanchor\":\"left\",\"xref\":\"paper\",\"y\":1.05,\"yanchor\":\"bottom\",\"yref\":\"paper\"}],\"font\":{\"color\":\"#181818\",\"family\":\"Arial\"},\"height\":600,\"hoverlabel\":{\"bgcolor\":\"#FEFEFE\",\"font\":{\"family\":\"Consolas\",\"size\":12}},\"legend\":{\"orientation\":\"h\",\"x\":0.75,\"xanchor\":\"left\",\"y\":1.1,\"yanchor\":\"bottom\"},\"margin\":{\"b\":20,\"l\":1,\"r\":0,\"t\":100},\"paper_bgcolor\":\"#FEFEFE\",\"plot_bgcolor\":\"#FFFFFF\",\"template\":{\"data\":{\"bar\":[{\"error_x\":{\"color\":\"#2a3f5f\"},\"error_y\":{\"color\":\"#2a3f5f\"},\"marker\":{\"line\":{\"color\":\"#E5ECF6\",\"width\":0.5},\"pattern\":{\"fillmode\":\"overlay\",\"size\":10,\"solidity\":0.2}},\"type\":\"bar\"}],\"barpolar\":[{\"marker\":{\"line\":{\"color\":\"#E5ECF6\",\"width\":0.5},\"pattern\":{\"fillmode\":\"overlay\",\"size\":10,\"solidity\":0.2}},\"type\":\"barpolar\"}],\"carpet\":[{\"aaxis\":{\"endlinecolor\":\"#2a3f5f\",\"gridcolor\":\"white\",\"linecolor\":\"white\",\"minorgridcolor\":\"white\",\"startlinecolor\":\"#2a3f5f\"},\"baxis\":{\"endlinecolor\":\"#2a3f5f\",\"gridcolor\":\"white\",\"linecolor\":\"white\",\"minorgridcolor\":\"white\",\"startlinecolor\":\"#2a3f5f\"},\"type\":\"carpet\"}],\"choropleth\":[{\"colorbar\":{\"outlinewidth\":0,\"ticks\":\"\"},\"type\":\"choropleth\"}],\"contour\":[{\"colorbar\":{\"outlinewidth\":0,\"ticks\":\"\"},\"colorscale\":[[0.0,\"#0d0887\"],[0.1111111111111111,\"#46039f\"],[0.2222222222222222,\"#7201a8\"],[0.3333333333333333,\"#9c179e\"],[0.4444444444444444,\"#bd3786\"],[0.5555555555555556,\"#d8576b\"],[0.6666666666666666,\"#ed7953\"],[0.7777777777777778,\"#fb9f3a\"],[0.8888888888888888,\"#fdca26\"],[1.0,\"#f0f921\"]],\"type\":\"contour\"}],\"contourcarpet\":[{\"colorbar\":{\"outlinewidth\":0,\"ticks\":\"\"},\"type\":\"contourcarpet\"}],\"heatmap\":[{\"colorbar\":{\"outlinewidth\":0,\"ticks\":\"\"},\"colorscale\":[[0.0,\"#0d0887\"],[0.1111111111111111,\"#46039f\"],[0.2222222222222222,\"#7201a8\"],[0.3333333333333333,\"#9c179e\"],[0.4444444444444444,\"#bd3786\"],[0.5555555555555556,\"#d8576b\"],[0.6666666666666666,\"#ed7953\"],[0.7777777777777778,\"#fb9f3a\"],[0.8888888888888888,\"#fdca26\"],[1.0,\"#f0f921\"]],\"type\":\"heatmap\"}],\"heatmapgl\":[{\"colorbar\":{\"outlinewidth\":0,\"ticks\":\"\"},\"colorscale\":[[0.0,\"#0d0887\"],[0.1111111111111111,\"#46039f\"],[0.2222222222222222,\"#7201a8\"],[0.3333333333333333,\"#9c179e\"],[0.4444444444444444,\"#bd3786\"],[0.5555555555555556,\"#d8576b\"],[0.6666666666666666,\"#ed7953\"],[0.7777777777777778,\"#fb9f3a\"],[0.8888888888888888,\"#fdca26\"],[1.0,\"#f0f921\"]],\"type\":\"heatmapgl\"}],\"histogram\":[{\"marker\":{\"pattern\":{\"fillmode\":\"overlay\",\"size\":10,\"solidity\":0.2}},\"type\":\"histogram\"}],\"histogram2d\":[{\"colorbar\":{\"outlinewidth\":0,\"ticks\":\"\"},\"colorscale\":[[0.0,\"#0d0887\"],[0.1111111111111111,\"#46039f\"],[0.2222222222222222,\"#7201a8\"],[0.3333333333333333,\"#9c179e\"],[0.4444444444444444,\"#bd3786\"],[0.5555555555555556,\"#d8576b\"],[0.6666666666666666,\"#ed7953\"],[0.7777777777777778,\"#fb9f3a\"],[0.8888888888888888,\"#fdca26\"],[1.0,\"#f0f921\"]],\"type\":\"histogram2d\"}],\"histogram2dcontour\":[{\"colorbar\":{\"outlinewidth\":0,\"ticks\":\"\"},\"colorscale\":[[0.0,\"#0d0887\"],[0.1111111111111111,\"#46039f\"],[0.2222222222222222,\"#7201a8\"],[0.3333333333333333,\"#9c179e\"],[0.4444444444444444,\"#bd3786\"],[0.5555555555555556,\"#d8576b\"],[0.6666666666666666,\"#ed7953\"],[0.7777777777777778,\"#fb9f3a\"],[0.8888888888888888,\"#fdca26\"],[1.0,\"#f0f921\"]],\"type\":\"histogram2dcontour\"}],\"mesh3d\":[{\"colorbar\":{\"outlinewidth\":0,\"ticks\":\"\"},\"type\":\"mesh3d\"}],\"parcoords\":[{\"line\":{\"colorbar\":{\"outlinewidth\":0,\"ticks\":\"\"}},\"type\":\"parcoords\"}],\"pie\":[{\"automargin\":true,\"type\":\"pie\"}],\"scatter\":[{\"marker\":{\"colorbar\":{\"outlinewidth\":0,\"ticks\":\"\"}},\"type\":\"scatter\"}],\"scatter3d\":[{\"line\":{\"colorbar\":{\"outlinewidth\":0,\"ticks\":\"\"}},\"marker\":{\"colorbar\":{\"outlinewidth\":0,\"ticks\":\"\"}},\"type\":\"scatter3d\"}],\"scattercarpet\":[{\"marker\":{\"colorbar\":{\"outlinewidth\":0,\"ticks\":\"\"}},\"type\":\"scattercarpet\"}],\"scattergeo\":[{\"marker\":{\"colorbar\":{\"outlinewidth\":0,\"ticks\":\"\"}},\"type\":\"scattergeo\"}],\"scattergl\":[{\"marker\":{\"colorbar\":{\"outlinewidth\":0,\"ticks\":\"\"}},\"type\":\"scattergl\"}],\"scattermapbox\":[{\"marker\":{\"colorbar\":{\"outlinewidth\":0,\"ticks\":\"\"}},\"type\":\"scattermapbox\"}],\"scatterpolar\":[{\"marker\":{\"colorbar\":{\"outlinewidth\":0,\"ticks\":\"\"}},\"type\":\"scatterpolar\"}],\"scatterpolargl\":[{\"marker\":{\"colorbar\":{\"outlinewidth\":0,\"ticks\":\"\"}},\"type\":\"scatterpolargl\"}],\"scatterternary\":[{\"marker\":{\"colorbar\":{\"outlinewidth\":0,\"ticks\":\"\"}},\"type\":\"scatterternary\"}],\"surface\":[{\"colorbar\":{\"outlinewidth\":0,\"ticks\":\"\"},\"colorscale\":[[0.0,\"#0d0887\"],[0.1111111111111111,\"#46039f\"],[0.2222222222222222,\"#7201a8\"],[0.3333333333333333,\"#9c179e\"],[0.4444444444444444,\"#bd3786\"],[0.5555555555555556,\"#d8576b\"],[0.6666666666666666,\"#ed7953\"],[0.7777777777777778,\"#fb9f3a\"],[0.8888888888888888,\"#fdca26\"],[1.0,\"#f0f921\"]],\"type\":\"surface\"}],\"table\":[{\"cells\":{\"fill\":{\"color\":\"#EBF0F8\"},\"line\":{\"color\":\"white\"}},\"header\":{\"fill\":{\"color\":\"#C8D4E3\"},\"line\":{\"color\":\"white\"}},\"type\":\"table\"}]},\"layout\":{\"annotationdefaults\":{\"arrowcolor\":\"#2a3f5f\",\"arrowhead\":0,\"arrowwidth\":1},\"autotypenumbers\":\"strict\",\"coloraxis\":{\"colorbar\":{\"outlinewidth\":0,\"ticks\":\"\"}},\"colorscale\":{\"diverging\":[[0,\"#8e0152\"],[0.1,\"#c51b7d\"],[0.2,\"#de77ae\"],[0.3,\"#f1b6da\"],[0.4,\"#fde0ef\"],[0.5,\"#f7f7f7\"],[0.6,\"#e6f5d0\"],[0.7,\"#b8e186\"],[0.8,\"#7fbc41\"],[0.9,\"#4d9221\"],[1,\"#276419\"]],\"sequential\":[[0.0,\"#0d0887\"],[0.1111111111111111,\"#46039f\"],[0.2222222222222222,\"#7201a8\"],[0.3333333333333333,\"#9c179e\"],[0.4444444444444444,\"#bd3786\"],[0.5555555555555556,\"#d8576b\"],[0.6666666666666666,\"#ed7953\"],[0.7777777777777778,\"#fb9f3a\"],[0.8888888888888888,\"#fdca26\"],[1.0,\"#f0f921\"]],\"sequentialminus\":[[0.0,\"#0d0887\"],[0.1111111111111111,\"#46039f\"],[0.2222222222222222,\"#7201a8\"],[0.3333333333333333,\"#9c179e\"],[0.4444444444444444,\"#bd3786\"],[0.5555555555555556,\"#d8576b\"],[0.6666666666666666,\"#ed7953\"],[0.7777777777777778,\"#fb9f3a\"],[0.8888888888888888,\"#fdca26\"],[1.0,\"#f0f921\"]]},\"colorway\":[\"#636efa\",\"#EF553B\",\"#00cc96\",\"#ab63fa\",\"#FFA15A\",\"#19d3f3\",\"#FF6692\",\"#B6E880\",\"#FF97FF\",\"#FECB52\"],\"font\":{\"color\":\"#2a3f5f\"},\"geo\":{\"bgcolor\":\"white\",\"lakecolor\":\"white\",\"landcolor\":\"#E5ECF6\",\"showlakes\":true,\"showland\":true,\"subunitcolor\":\"white\"},\"hoverlabel\":{\"align\":\"left\"},\"hovermode\":\"closest\",\"mapbox\":{\"style\":\"light\"},\"paper_bgcolor\":\"white\",\"plot_bgcolor\":\"#E5ECF6\",\"polar\":{\"angularaxis\":{\"gridcolor\":\"white\",\"linecolor\":\"white\",\"ticks\":\"\"},\"bgcolor\":\"#E5ECF6\",\"radialaxis\":{\"gridcolor\":\"white\",\"linecolor\":\"white\",\"ticks\":\"\"}},\"scene\":{\"xaxis\":{\"backgroundcolor\":\"#E5ECF6\",\"gridcolor\":\"white\",\"gridwidth\":2,\"linecolor\":\"white\",\"showbackground\":true,\"ticks\":\"\",\"zerolinecolor\":\"white\"},\"yaxis\":{\"backgroundcolor\":\"#E5ECF6\",\"gridcolor\":\"white\",\"gridwidth\":2,\"linecolor\":\"white\",\"showbackground\":true,\"ticks\":\"\",\"zerolinecolor\":\"white\"},\"zaxis\":{\"backgroundcolor\":\"#E5ECF6\",\"gridcolor\":\"white\",\"gridwidth\":2,\"linecolor\":\"white\",\"showbackground\":true,\"ticks\":\"\",\"zerolinecolor\":\"white\"}},\"shapedefaults\":{\"line\":{\"color\":\"#2a3f5f\"}},\"ternary\":{\"aaxis\":{\"gridcolor\":\"white\",\"linecolor\":\"white\",\"ticks\":\"\"},\"baxis\":{\"gridcolor\":\"white\",\"linecolor\":\"white\",\"ticks\":\"\"},\"bgcolor\":\"#E5ECF6\",\"caxis\":{\"gridcolor\":\"white\",\"linecolor\":\"white\",\"ticks\":\"\"}},\"title\":{\"x\":0.05},\"xaxis\":{\"automargin\":true,\"gridcolor\":\"white\",\"linecolor\":\"white\",\"ticks\":\"\",\"title\":{\"standoff\":15},\"zerolinecolor\":\"white\",\"zerolinewidth\":2},\"yaxis\":{\"automargin\":true,\"gridcolor\":\"white\",\"linecolor\":\"white\",\"ticks\":\"\",\"title\":{\"standoff\":15},\"zerolinecolor\":\"white\",\"zerolinewidth\":2}}},\"title\":{\"text\":\"<b>Bundesliga 2020-2021</b></br></br>\",\"x\":0},\"width\":980,\"xaxis\":{\"anchor\":\"y\",\"domain\":[0.0,0.2125],\"tickmode\":\"array\",\"ticktext\":[\"Home\",\"Away\"],\"tickvals\":[0,1]},\"xaxis2\":{\"anchor\":\"y2\",\"domain\":[0.2625,0.475],\"tickmode\":\"array\",\"ticktext\":[\"Home\",\"Away\"],\"tickvals\":[0,1]},\"xaxis3\":{\"anchor\":\"y3\",\"domain\":[0.525,0.7375],\"tickmode\":\"array\",\"ticktext\":[\"Home\",\"Away\"],\"tickvals\":[0,1]},\"xaxis4\":{\"anchor\":\"y4\",\"domain\":[0.7875,1.0],\"tickmode\":\"array\",\"ticktext\":[\"Home\",\"Away\"],\"tickvals\":[0,1]},\"yaxis\":{\"anchor\":\"x\",\"domain\":[0.0,1.0],\"range\":[0.001,3]},\"yaxis2\":{\"anchor\":\"x2\",\"domain\":[0.0,1.0],\"range\":[0.001,3.764705882352941]},\"yaxis3\":{\"anchor\":\"x3\",\"domain\":[0.0,1.0],\"range\":[0.001,3.764705882352941]},\"yaxis4\":{\"anchor\":\"x4\",\"domain\":[0.0,1.0],\"range\":[-2.411764705882353,2.5294117647058822]}},                        {\"responsive\": true}                    ).then(function(){\n",
       "                            \n",
       "var gd = document.getElementById('23fad61e-3ac6-4efd-a64e-a9eaf851d5d1');\n",
       "var x = new MutationObserver(function (mutations, observer) {{\n",
       "        var display = window.getComputedStyle(gd).display;\n",
       "        if (!display || display === 'none') {{\n",
       "            console.log([gd, 'removed!']);\n",
       "            Plotly.purge(gd);\n",
       "            observer.disconnect();\n",
       "        }}\n",
       "}});\n",
       "\n",
       "// Listen for the removal of the full notebook cells\n",
       "var notebookContainer = gd.closest('#notebook-container');\n",
       "if (notebookContainer) {{\n",
       "    x.observe(notebookContainer, {childList: true});\n",
       "}}\n",
       "\n",
       "// Listen for the clearing of the current output cell\n",
       "var outputEl = gd.closest('.output');\n",
       "if (outputEl) {{\n",
       "    x.observe(outputEl, {childList: true});\n",
       "}}\n",
       "\n",
       "                        })                };                });            </script>        </div>"
      ]
     },
     "metadata": {},
     "output_type": "display_data"
    }
   ],
   "source": [
    "  \n",
    "### VARIABLES ############################################################################\n",
    "\n",
    "league = 'Bundesliga'\n",
    "season = '2020-2021'\n",
    "hometeam = 'Hertha Berlin'\n",
    "hometeam_altname = 'Hertha BSC'\n",
    "awayteam = 'Union Berlin'\n",
    "awayteam_altname = '1. FC Union'\n",
    "chosen_style = 'Minimalist'\n",
    "\n",
    "allPlots(league, season, hometeam, hometeam_altname, awayteam, awayteam_altname, chosen_style)"
   ]
  },
  {
   "cell_type": "code",
   "execution_count": null,
   "id": "61b1335f-5096-4076-9263-82ceaeb593ba",
   "metadata": {},
   "outputs": [],
   "source": []
  },
  {
   "cell_type": "code",
   "execution_count": null,
   "id": "e673f087-233d-4c9b-9936-6f2fb01a9bb5",
   "metadata": {},
   "outputs": [],
   "source": []
  }
 ],
 "metadata": {
  "kernelspec": {
   "display_name": "Python 3",
   "language": "python",
   "name": "python3"
  },
  "language_info": {
   "codemirror_mode": {
    "name": "ipython",
    "version": 3
   },
   "file_extension": ".py",
   "mimetype": "text/x-python",
   "name": "python",
   "nbconvert_exporter": "python",
   "pygments_lexer": "ipython3",
   "version": "3.9.4"
  }
 },
 "nbformat": 4,
 "nbformat_minor": 5
}
